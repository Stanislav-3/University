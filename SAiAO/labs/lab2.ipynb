{
 "cells": [
  {
   "cell_type": "code",
   "execution_count": 1,
   "metadata": {},
   "outputs": [],
   "source": [
    "import numpy as np"
   ]
  },
  {
   "cell_type": "markdown",
   "metadata": {},
   "source": [
    "# Отсекающие ограничения"
   ]
  },
  {
   "cell_type": "markdown",
   "metadata": {},
   "source": [
    "## Симплекс метод"
   ]
  },
  {
   "cell_type": "markdown",
   "metadata": {},
   "source": [
    "### Основная фаза"
   ]
  },
  {
   "cell_type": "code",
   "execution_count": 2,
   "metadata": {},
   "outputs": [],
   "source": [
    "def dot(A, B, index):\n",
    "    C = np.zeros(A.shape)\n",
    "    for i in range(len(A)):\n",
    "        for j in range(len(A)):\n",
    "            C[i][j] += A[i][index] * B[index][j]\n",
    "            if i != index:\n",
    "                C[i][j] += B[i][j]\n",
    "\n",
    "    return C"
   ]
  },
  {
   "cell_type": "code",
   "execution_count": 3,
   "metadata": {},
   "outputs": [],
   "source": [
    "def find_inv(A_inv: np.array, x: np.array, index: int):\n",
    "    # 1:\n",
    "    l = A_inv @ x\n",
    "    if l[index] == 0:\n",
    "        return False\n",
    "\n",
    "    # 2:\n",
    "    l_wave = np.copy(l)\n",
    "    l_wave[index] = -1.\n",
    "\n",
    "    # 3:\n",
    "    l_hat = -1. / l[index] * l_wave\n",
    "\n",
    "    # 4:\n",
    "    Q = np.identity(len(x))\n",
    "    Q[:, index] = l_hat\n",
    "\n",
    "    # 5:\n",
    "    return dot(Q, A_inv, index)"
   ]
  },
  {
   "cell_type": "code",
   "execution_count": 4,
   "metadata": {},
   "outputs": [],
   "source": [
    "def solve_simplex(c: np.array, A: np.array, x: np.array, B=None):\n",
    "    i = 0\n",
    "    while True:\n",
    "        if i == 0 and B is None:\n",
    "            B = np.nonzero(x)[0]\n",
    "        #1\n",
    "        A_B = A[:, B]\n",
    "        if i == 0:\n",
    "            A_B_inv = np.linalg.inv(A_B)\n",
    "        else:\n",
    "            A_B_inv = find_inv(A_B_inv, A[:, j_0], k)\n",
    "\n",
    "        #2\n",
    "        c_B = c[B]\n",
    "\n",
    "        #3\n",
    "        u = c_B @ A_B_inv\n",
    "\n",
    "        #4\n",
    "        delta = u @ A - c\n",
    "\n",
    "        #5 \n",
    "        if (delta >= 0).all():\n",
    "            return x, B\n",
    "            \n",
    "        #6\n",
    "        j_0 = np.argmax(delta < 0)\n",
    "\n",
    "        #7\n",
    "        z = A_B_inv @ A[:, j_0]\n",
    "\n",
    "        #8\n",
    "        theta = np.empty(len(z))\n",
    "        for i in range(len(z)):\n",
    "            if z[i] > 0:\n",
    "                theta[i] = x[B[i]] / z[i]\n",
    "            else:\n",
    "                theta[i] = np.Inf\n",
    "\n",
    "        #9\n",
    "        theta_0 = np.min(theta)\n",
    "\n",
    "        #10\n",
    "        if theta_0 == np.inf:\n",
    "            raise ValueError('Целевой функционал задачи не ограничен сверху на множестве допустимых планов')\n",
    "        \n",
    "        #11\n",
    "        k = np.argmin(theta)\n",
    "        j_asterisk = B[k]\n",
    "\n",
    "        #12\n",
    "        B[k] = j_0\n",
    "\n",
    "        #13\n",
    "        x[j_0] = theta_0\n",
    "        for i in range(len(B)):\n",
    "            if i == k:\n",
    "                continue\n",
    "            x[B[i]] -= theta_0 * z[i]\n",
    "        x[j_asterisk] = 0\n",
    "\n",
    "        i += 1"
   ]
  },
  {
   "cell_type": "markdown",
   "metadata": {},
   "source": [
    "### Начальная фаза"
   ]
  },
  {
   "cell_type": "code",
   "execution_count": 5,
   "metadata": {},
   "outputs": [],
   "source": [
    "def solve_simplex_initial(c: np.array, A: np.array, b: np.array):\n",
    "    n = len(c)\n",
    "    m = len(b)\n",
    "    assert A.shape == (m, n)\n",
    "\n",
    "    #1\n",
    "    for i in range(len(b)):\n",
    "        if b[i] < 0:\n",
    "            b[i] *= -1\n",
    "            A[i] *= -1\n",
    "    \n",
    "    #2\n",
    "    c_wave = np.array([0] * n + [-1] * m)\n",
    "    x_wave = np.zeros(n + m)\n",
    "    A_wave = np.hstack((A, np.eye(A.shape[0])))\n",
    "    \n",
    "    #3\n",
    "    x_wave[n:] = b\n",
    "    B = np.array([i for i in range(n, n + m)])\n",
    "    \n",
    "    #4\n",
    "    x_wave, B = solve_simplex(c_wave, A_wave, x_wave, B)\n",
    "\n",
    "    #5\n",
    "    if not (x_wave[n:] == 0).all():\n",
    "        raise ValueError('Задача несовместна')\n",
    "    \n",
    "    #6\n",
    "    x = x_wave[:n] \n",
    "\n",
    "    while True:\n",
    "        #7\n",
    "        if (B < n - 1).all():\n",
    "            return x\n",
    "            \n",
    "        #8\n",
    "        k = B.argmax()\n",
    "        j_k = B[k]\n",
    "        i = j_k - n\n",
    "\n",
    "        #9\n",
    "        l = np.ones([n, m])\n",
    "        l[:, :] = np.nan\n",
    "            \n",
    "        for j in range(n):\n",
    "            if j not in B:\n",
    "                l[j] = np.linalg.inv(A_wave[:, B]) @ A_wave[:, j]\n",
    "            \n",
    "        #10\n",
    "        found_nonzero = False\n",
    "        for j, l_j in enumerate(l):\n",
    "            if not np.isnan(l_j[k]) and l_j[k] != 0:\n",
    "                B[k] = j\n",
    "                found_nonzero = True\n",
    "                break\n",
    "        \n",
    "        if not found_nonzero:\n",
    "                B = np.delete(B, k)\n",
    "\n",
    "                A = np.delete(A, i, axis=0)\n",
    "                A_wave = np.delete(A_wave, i, axis=0)\n",
    "                b = np.delete(b, i)\n",
    "\n",
    "            \n",
    "                A_wave = np.delete(A_wave, n + i, axis=1)\n",
    "                c_wave = np.delete(c_wave, n + i)"
   ]
  },
  {
   "attachments": {},
   "cell_type": "markdown",
   "metadata": {},
   "source": [
    "## Лабораторная работа"
   ]
  },
  {
   "cell_type": "code",
   "execution_count": 6,
   "metadata": {},
   "outputs": [],
   "source": [
    "c = np.array([0, 1, 0, 0])\n",
    "A = np.array([\n",
    "    [3, 2, 1, 0],\n",
    "    [-3, 2, 0, 1]\n",
    "])\n",
    "b = np.array([6, 0])"
   ]
  },
  {
   "cell_type": "code",
   "execution_count": 7,
   "metadata": {},
   "outputs": [],
   "source": [
    "def solve(c, A, b):\n",
    "    x = solve_simplex_initial(c, A, b)\n",
    "    x_is_int = np.isclose(x, x.astype(int), 10**-3)\n",
    "\n",
    "    if np.all(x_is_int):\n",
    "        return x\n",
    "    \n",
    "    x, B = solve_simplex(c, A, x)\n",
    "\n",
    "    N = [i for i in range(len(x)) if i not in B]\n",
    "\n",
    "\n",
    "    A_B = A[:, B]\n",
    "    A_N = A[:, N]\n",
    "\n",
    "    mul = np.linalg.inv(A_B) @ A_N\n",
    "\n",
    "    float_idx = np.argmin(x_is_int)\n",
    "    k = np.argmax(B == float_idx)\n",
    "\n",
    "    l = mul[k, :]\n",
    "\n",
    "    l_floats = l - np.floor(l)\n",
    "\n",
    "    l_result = np.zeros(len(x) + 1)\n",
    "    l_result[-1] = -1\n",
    "    l_result[N] = l_floats\n",
    "\n",
    "    return l_result, x[k]"
   ]
  },
  {
   "cell_type": "code",
   "execution_count": 8,
   "metadata": {},
   "outputs": [
    {
     "data": {
      "text/plain": [
       "(array([ 0.  ,  0.  ,  0.25,  0.25, -1.  ]), 1.5)"
      ]
     },
     "execution_count": 8,
     "metadata": {},
     "output_type": "execute_result"
    }
   ],
   "source": [
    "solve(c, A, b)"
   ]
  }
 ],
 "metadata": {
  "kernelspec": {
   "display_name": "Python 3.10.7 64-bit",
   "language": "python",
   "name": "python3"
  },
  "language_info": {
   "codemirror_mode": {
    "name": "ipython",
    "version": 3
   },
   "file_extension": ".py",
   "mimetype": "text/x-python",
   "name": "python",
   "nbconvert_exporter": "python",
   "pygments_lexer": "ipython3",
   "version": "3.10.7"
  },
  "orig_nbformat": 4,
  "vscode": {
   "interpreter": {
    "hash": "aee8b7b246df8f9039afb4144a1f6fd8d2ca17a180786b69acc140d282b71a49"
   }
  }
 },
 "nbformat": 4,
 "nbformat_minor": 2
}
