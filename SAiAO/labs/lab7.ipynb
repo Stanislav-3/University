{
 "cells": [
  {
   "cell_type": "code",
   "execution_count": 9,
   "metadata": {},
   "outputs": [],
   "source": [
    "import numpy as np\n",
    "from ipynb.fs.full.lab6 import get_max_matching, in_M"
   ]
  },
  {
   "cell_type": "markdown",
   "metadata": {},
   "source": [
    "# Задача о назначениях. Матричная транспортная задача"
   ]
  },
  {
   "cell_type": "code",
   "execution_count": 10,
   "metadata": {},
   "outputs": [],
   "source": [
    "C = np.array([\n",
    "        [7, 2, 1, 9, 4],\n",
    "        [9, 6, 9, 5, 5],\n",
    "        [3, 8, 3, 1, 8],\n",
    "        [7, 9, 4, 2, 2], \n",
    "        [8, 4, 7, 4, 8]\n",
    "    ])"
   ]
  },
  {
   "cell_type": "code",
   "execution_count": 11,
   "metadata": {},
   "outputs": [],
   "source": [
    "def build_adjacent_matrix(edges, n):\n",
    "    matrix = np.zeros((2 * n, 2 * n))\n",
    "\n",
    "    for i, j in edges:\n",
    "        j += n\n",
    "        matrix[i, j] = 1\n",
    "        matrix[j, i] = 1\n",
    "    \n",
    "    return matrix"
   ]
  },
  {
   "cell_type": "code",
   "execution_count": 12,
   "metadata": {},
   "outputs": [],
   "source": [
    "def orient_graph(adjacent_matrix, max_matching):\n",
    "    for i, j in zip(*np.nonzero(np.triu(adjacent_matrix))):\n",
    "        if (i, j) in max_matching:\n",
    "            adjacent_matrix[i, j] = 0\n",
    "            adjacent_matrix[j, i] = 1\n",
    "        else:\n",
    "            adjacent_matrix[i, j] = 1\n",
    "            adjacent_matrix[j, i] = 0"
   ]
  },
  {
   "cell_type": "code",
   "execution_count": 13,
   "metadata": {},
   "outputs": [],
   "source": [
    "def dfs(adjacent_matrix, visited, vertex):    \n",
    "    if visited[vertex]:\n",
    "        return\n",
    "        \n",
    "    visited[vertex] = True\n",
    "\n",
    "    adjacent_vertexes = np.nonzero(adjacent_matrix[vertex, :])[0]\n",
    "\n",
    "    for vertex in adjacent_vertexes:\n",
    "        if not visited[vertex]:\n",
    "            dfs(adjacent_matrix, visited, vertex)"
   ]
  },
  {
   "cell_type": "code",
   "execution_count": 14,
   "metadata": {},
   "outputs": [],
   "source": [
    "def find_routes(C):\n",
    "    alpha = np.zeros(C.shape[0])\n",
    "    beta = np.min(C, axis=0).astype('float64')\n",
    "\n",
    "    while True:\n",
    "        J = [\n",
    "            (i, j) \n",
    "            for i in range(C.shape[0]) \n",
    "                for j in range(C.shape[1]) \n",
    "                    if np.isclose(alpha[i] + beta[j], C[i, j])\n",
    "            ]\n",
    "\n",
    "        adjacent_matrix = build_adjacent_matrix(J, len(C))\n",
    "\n",
    "        max_matching = get_max_matching(adjacent_matrix, first_vertexes=[i for i in range(len(C))])\n",
    "        \n",
    "        if len(max_matching) == len(C):\n",
    "            return [\n",
    "                (source, target - len(C)) for source, target in max_matching\n",
    "            ]\n",
    "\n",
    "        start = []\n",
    "        for vertex in range(len(C)):\n",
    "            if not in_M(max_matching, vertex):\n",
    "                start.append(vertex)\n",
    "        \n",
    "        orient_graph(adjacent_matrix, max_matching)\n",
    "\n",
    "        # DFS\n",
    "        visited = [False] * (2 * len(C))\n",
    "\n",
    "        for vertex in start:\n",
    "            dfs(adjacent_matrix, visited, vertex)\n",
    "\n",
    "\n",
    "        alpha_cap = np.where(visited[:len(C)], 1, -1)\n",
    "        beta_cap= np.where(visited[len(C):], -1, 1)\n",
    "\n",
    "        theta = np.min([\n",
    "            value for value in (\n",
    "                (C[i, j] - alpha[i] - beta[j]) / 2 \n",
    "                for i in range(len(C))\n",
    "                for j in range(len(C))\n",
    "                if visited[i] and not visited[j + len(C)]\n",
    "            )\n",
    "        ])\n",
    "\n",
    "        alpha += theta * alpha_cap\n",
    "        beta += theta * beta_cap"
   ]
  },
  {
   "cell_type": "code",
   "execution_count": 15,
   "metadata": {},
   "outputs": [
    {
     "data": {
      "text/plain": [
       "[(2, 0), (4, 1), (0, 2), (1, 3), (3, 4)]"
      ]
     },
     "execution_count": 15,
     "metadata": {},
     "output_type": "execute_result"
    }
   ],
   "source": [
    "find_routes(C)"
   ]
  }
 ],
 "metadata": {
  "kernelspec": {
   "display_name": "Python 3.10.7 64-bit",
   "language": "python",
   "name": "python3"
  },
  "language_info": {
   "codemirror_mode": {
    "name": "ipython",
    "version": 3
   },
   "file_extension": ".py",
   "mimetype": "text/x-python",
   "name": "python",
   "nbconvert_exporter": "python",
   "pygments_lexer": "ipython3",
   "version": "3.10.7"
  },
  "orig_nbformat": 4,
  "vscode": {
   "interpreter": {
    "hash": "aee8b7b246df8f9039afb4144a1f6fd8d2ca17a180786b69acc140d282b71a49"
   }
  }
 },
 "nbformat": 4,
 "nbformat_minor": 2
}
