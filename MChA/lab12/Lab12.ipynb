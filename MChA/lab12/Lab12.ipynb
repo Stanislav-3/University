{
 "cells": [
  {
   "cell_type": "markdown",
   "metadata": {},
   "source": [
    "# Лабораторная работа №12. Решение краевых задач методом разностных аппроксимаций"
   ]
  },
  {
   "cell_type": "code",
   "execution_count": 1108,
   "metadata": {},
   "outputs": [],
   "source": [
    "VARIANT_NUMBER = 5"
   ]
  },
  {
   "cell_type": "code",
   "execution_count": 1109,
   "metadata": {},
   "outputs": [],
   "source": [
    "from abc import abstractmethod\n",
    "from math import *\n",
    "\n",
    "import matplotlib.pyplot as plt\n",
    "import numpy as np"
   ]
  },
  {
   "cell_type": "markdown",
   "metadata": {},
   "source": [
    "### Общая структура решения"
   ]
  },
  {
   "cell_type": "markdown",
   "metadata": {},
   "source": [
    "Составим необходимые методы для вычисления норм $L_2$, $L_1$, $L_\\infty$:"
   ]
  },
  {
   "cell_type": "code",
   "execution_count": 1110,
   "metadata": {},
   "outputs": [],
   "source": [
    "class Metrics:\n",
    "    @staticmethod\n",
    "    def l_1_norm(first_vector, second_vector):\n",
    "        return np.sum(np.abs(first_vector - second_vector))\n",
    "\n",
    "    @staticmethod\n",
    "    def l_2_norm(first_vector, second_vector):\n",
    "        return np.sum((first_vector - second_vector) ** 2)\n",
    "\n",
    "    @staticmethod\n",
    "    def l_infinity_norm(first_vector, second_vector):\n",
    "        return np.max(np.abs(first_vector - second_vector))"
   ]
  },
  {
   "cell_type": "markdown",
   "metadata": {},
   "source": [
    "Решение всех составленных тридиагональных матриц происходит при помощи метода прогонки. Разряженная тридиагональная матрицы хранится оптимальным способом - в виде трех массивов."
   ]
  },
  {
   "cell_type": "code",
   "execution_count": 1111,
   "metadata": {},
   "outputs": [],
   "source": [
    "def solve_tridigional_matrix(\n",
    "    upper_diagonal, middle_diagonal, lower_diagonal, result_vector\n",
    "):\n",
    "    c_prime = np.zeros(middle_diagonal.size - 1)\n",
    "    d_prime = np.zeros(middle_diagonal.size)\n",
    "\n",
    "    c_prime[0] = upper_diagonal[0] / middle_diagonal[0]\n",
    "    for i in range(1, middle_diagonal.size - 1):\n",
    "        c_prime[i] = upper_diagonal[i] / (\n",
    "            middle_diagonal[i] - lower_diagonal[i - 1] * c_prime[i - 1]\n",
    "        )\n",
    "\n",
    "    d_prime[0] = result_vector[0] / middle_diagonal[0]\n",
    "    for i in range(1, middle_diagonal.size):\n",
    "        d_prime[i] = (result_vector[i] - lower_diagonal[i - 1] * d_prime[i - 1]) / (\n",
    "            middle_diagonal[i] - lower_diagonal[i - 1] * c_prime[i - 1]\n",
    "        )\n",
    "\n",
    "    solution = np.zeros(middle_diagonal.size)\n",
    "    solution[-1] = d_prime[-1]\n",
    "\n",
    "    for i in reversed(range(middle_diagonal.size - 1)):\n",
    "        solution[i] = d_prime[i] - c_prime[i] * solution[i + 1]\n",
    "    return solution"
   ]
  },
  {
   "cell_type": "markdown",
   "metadata": {},
   "source": [
    "Основной класс для построения всех последующих решений - `AbstractDifferenceSchemeSolver`. В нем происходит инициализация всех необходимых функций для решения краевой задачи первого рода, которая в общем виде представлена как:\n",
    "$$y''(x) + p(x)y'(x) + q(x)y(x) = f(x), a < x < b$$\n",
    "$$y(a) = A$$\n",
    "$$y(b) = B$$\n",
    "Таким образом, в конструктор класса передаются функции $p(x)$, $q(x)$, $f(x)$; границы рассматриваемого промежутка $[a, b]$; $h$ - шаг сетки и граничные условия первого рода $A$ и $B$.\n",
    "Так как класс абстрактный, то в нем присутствует нереализованная абстрактная функция - `_get_difference_scheme_vectors` - необходимая для получения векторов-диагоналей трехдиагональной системы. Решение матрицы и получения значений сеточной функции происходит в функции `solve`, а отображение в функции `plot_solution`. \n",
    "\n",
    "Отдельно стоит рассмотреть методику подсчета ошибки. В лабораторной работе было использовано *правило Рунге* для оценки точности решений обыкновенных дифференциальных уравнений на регулярных сетках. Для оценки требуется решить задачу на 2 сетках, один раз с шагом $h$ $ y_{i, h} $ и второй — с шагом $\\frac{h}{2}$ $y_{i, \\frac{h}{2}}$. Формула: $$ {|y_{i,h}-y_{i,h/2}|} \\over {2^{p}-1} $$ дает погрешность решения $y_{i, \\frac{h}{2}}$. Под $p$ понимается порядок точности использованного численного метода. При этом в лабораторной работе в качестве нормы рассматривались нормы $L_2$, $L_1$, $L_\\infty$."
   ]
  },
  {
   "cell_type": "code",
   "execution_count": 1112,
   "metadata": {},
   "outputs": [],
   "source": [
    "class AbstractDifferenceSchemeSolver:\n",
    "    def __init__(\n",
    "        self,\n",
    "        p_function,\n",
    "        q_function,\n",
    "        f_function,\n",
    "        left_bound,\n",
    "        right_bound,\n",
    "        h=0.1,\n",
    "        amount_points=None,\n",
    "        left_condition=None,\n",
    "        right_condition=None,\n",
    "    ):\n",
    "        self.p = p_function\n",
    "        self.q = q_function\n",
    "        self.f = f_function\n",
    "\n",
    "        self.left_condition = left_condition\n",
    "        self.right_condition = right_condition\n",
    "\n",
    "        self.left_bound = left_bound\n",
    "        self.right_bound = right_bound\n",
    "\n",
    "        if (\n",
    "            amount_points is not None\n",
    "            and left_condition is not None\n",
    "            and right_condition is not None\n",
    "        ):\n",
    "            self.set_h((right_bound - left_bound) / (amount_points - 1))\n",
    "        elif h is not None:\n",
    "            self.set_h(h)\n",
    "        else:\n",
    "            raise ValueError\n",
    "\n",
    "    def set_h(self, new_h):\n",
    "        self.h = new_h\n",
    "        self.x_points = np.arange(self.left_bound, self.right_bound + self.h, self.h)\n",
    "        self.y_points = None\n",
    "\n",
    "    @abstractmethod\n",
    "    def _get_difference_scheme_vectors(self):\n",
    "        raise NotImplemented\n",
    "\n",
    "    def get_accuracy(self, metrics):\n",
    "        if self.y_points is None:\n",
    "            raise ValueError\n",
    "        double_h_solver = self.__class__(\n",
    "            self.p,\n",
    "            self.q,\n",
    "            self.f,\n",
    "            self.left_bound,\n",
    "            self.right_bound,\n",
    "            h=self.h * 2.0,\n",
    "            left_condition=self.left_condition,\n",
    "            right_condition=self.right_condition,\n",
    "        )\n",
    "        double_h_solver.solve()\n",
    "        return metrics(\n",
    "            self.y_points[::2],\n",
    "            double_h_solver.y_points\n",
    "            if self.y_points.size % 2 == 1\n",
    "            else double_h_solver.y_points[:-1],\n",
    "        ) / (2 ** self._order - 1)\n",
    "\n",
    "    def get_solution_according_accuracy(\n",
    "        self, metrics=Metrics.l_infinity_norm, eps=0.001, step=0.001\n",
    "    ):\n",
    "        current_accuracy = self.get_accuracy(metrics)\n",
    "        while current_accuracy >= eps:\n",
    "            self.set_h(self.h - step)\n",
    "            self.solve()\n",
    "            current_accuracy = self.get_accuracy(metrics)\n",
    "        return self.h, current_accuracy\n",
    "\n",
    "    def solve(self):\n",
    "        self.y_points = solve_tridigional_matrix(*self._get_difference_scheme_vectors())\n",
    "\n",
    "    def plot_solution(self, mode=\"smooth\"):\n",
    "        if mode == \"smooth\":\n",
    "            plt.plot(self.x_points, self.y_points)\n",
    "        elif mode == \"scatter\":\n",
    "            plt.scatter(self.x_points, self.y_points, facecolors=\"none\", edgecolors=\"r\")"
   ]
  },
  {
   "cell_type": "markdown",
   "metadata": {},
   "source": [
    "### **Задача 1**"
   ]
  },
  {
   "cell_type": "markdown",
   "metadata": {},
   "source": [
    "### Реализация метода для решение задачи 1"
   ]
  },
  {
   "cell_type": "markdown",
   "metadata": {},
   "source": [
    "Реализация метода будет основана на классе `SecondOrderSchemeSolver` унаследованого от `AbstractDifferenceSchemeSolver`. При этом, переопределены методы инициализации (добавлен порядок данной разстной схем - 2) и способ получения векторов-диагоналей для задания тридиагональной матрицы. В данном случае использовались формулы центральных разностей с порядком точности $O(h^2)$ для первой и второй производных:\n",
    "$$y'(x) = {y(x + h) - y(h)} \\over {2h}$$\n",
    "$$y''(x) = {y(x + h) - 2y(x) + y(x - h)} \\over {h^2}$$"
   ]
  },
  {
   "cell_type": "code",
   "execution_count": 1113,
   "metadata": {},
   "outputs": [],
   "source": [
    "class SecondOrderSchemeSolver(AbstractDifferenceSchemeSolver):\n",
    "    def __init__(\n",
    "        self,\n",
    "        p_function,\n",
    "        q_function,\n",
    "        f_function,\n",
    "        left_bound,\n",
    "        right_bound,\n",
    "        h=0.1,\n",
    "        amount_points=None,\n",
    "        left_condition=None,\n",
    "        right_condition=None,\n",
    "    ):\n",
    "        super().__init__(\n",
    "            p_function,\n",
    "            q_function,\n",
    "            f_function,\n",
    "            left_bound,\n",
    "            right_bound,\n",
    "            h=h,\n",
    "            amount_points=amount_points,\n",
    "            left_condition=left_condition,\n",
    "            right_condition=right_condition,\n",
    "        )\n",
    "        self._order = 2\n",
    "\n",
    "    def _get_difference_scheme_vectors(self):\n",
    "        diagonal = np.ones(self.x_points.size)\n",
    "        upper_diagonal = np.zeros(self.x_points.size - 1)\n",
    "        lower_diagonal = np.zeros(self.x_points.size - 1)\n",
    "\n",
    "        diagonal[1:-1] = np.vectorize(lambda x: (self.h ** 2) * self.q(x) - 2)(\n",
    "            self.x_points[1:-1]\n",
    "        )\n",
    "        upper_diagonal[1:] = np.vectorize(lambda x: 1 + self.h * self.p(x) / 2.0)(\n",
    "            self.x_points[1:-1]\n",
    "        )\n",
    "        lower_diagonal[:-1] = np.vectorize(lambda x: 1 - self.h * self.p(x) / 2.0)(\n",
    "            self.x_points[1:-1]\n",
    "        )\n",
    "\n",
    "        result = (self.h ** 2) * np.vectorize(self.f)(self.x_points)\n",
    "        result[0] = (\n",
    "            self.left_condition(self.h)\n",
    "            if callable(self.left_condition)\n",
    "            else self.left_condition\n",
    "        )\n",
    "        result[-1] = (\n",
    "            self.right_condition(self.h)\n",
    "            if callable(self.right_condition)\n",
    "            else self.right_condition\n",
    "        )\n",
    "\n",
    "        return upper_diagonal, diagonal, lower_diagonal, result"
   ]
  },
  {
   "cell_type": "markdown",
   "metadata": {},
   "source": [
    "### Решение задачи 1"
   ]
  },
  {
   "cell_type": "markdown",
   "metadata": {},
   "source": [
    "Определим граничные параметры $a$, $b$ относительно варианта и граничные условия, а так же точность решения $\\varepsilon$"
   ]
  },
  {
   "cell_type": "code",
   "execution_count": 1114,
   "metadata": {},
   "outputs": [],
   "source": [
    "a = sin(VARIANT_NUMBER)\n",
    "b = cos(VARIANT_NUMBER)\n",
    "A = 0\n",
    "B = 0\n",
    "eps = 0.001"
   ]
  },
  {
   "cell_type": "code",
   "execution_count": 1115,
   "metadata": {},
   "outputs": [],
   "source": [
    "solver = SecondOrderSchemeSolver(\n",
    "    lambda x: 0,\n",
    "    lambda x: (1 + b * x ** 2) / a,\n",
    "    lambda x: -1 / a,\n",
    "    -1,\n",
    "    1,\n",
    "    h=0.2,\n",
    "    left_condition=A,\n",
    "    right_condition=B,\n",
    ")\n",
    "solver.solve()"
   ]
  },
  {
   "cell_type": "code",
   "execution_count": 1116,
   "metadata": {},
   "outputs": [
    {
     "data": {
      "text/plain": [
       "0.0007782670165997208"
      ]
     },
     "execution_count": 1116,
     "metadata": {},
     "output_type": "execute_result"
    },
    {
     "data": {
      "image/png": "[encoded data removed]",
      "text/plain": [
       "<Figure size 432x288 with 1 Axes>"
      ]
     },
     "metadata": {
      "needs_background": "light"
     },
     "output_type": "display_data"
    }
   ],
   "source": [
    "plt.title(\n",
    "    f\"Результат решения уравнения \\n методом конечных разностей при точности {eps}\"\n",
    ")\n",
    "plt.xlabel(\"x\")\n",
    "plt.ylabel(\"y\")\n",
    "solver.plot_solution(mode=\"smooth\")\n",
    "solver.get_accuracy(Metrics.l_infinity_norm)"
   ]
  },
  {
   "cell_type": "code",
   "execution_count": 1117,
   "metadata": {},
   "outputs": [
    {
     "name": "stdout",
     "output_type": "stream",
     "text": [
      "Точность ε = 0.001; Шаг h = 0.2; Ошибка err = 0.0007782670165997208\n"
     ]
    }
   ],
   "source": [
    "h, error = solver.get_solution_according_accuracy(Metrics.l_infinity_norm)\n",
    "print(\n",
    "    f\"Точность ε = {eps}; Шаг h = {h}; Ошибка err = {error}\"\n",
    ")"
   ]
  },
  {
   "cell_type": "markdown",
   "metadata": {},
   "source": [
    "## **Задача 2**"
   ]
  },
  {
   "cell_type": "markdown",
   "metadata": {},
   "source": [
    "Найти приближенное решение краевой задачи методом конечных разностей:\n",
    "$$ u'' + p(x)u' + q(x)u = f(x), x \\in (a, b)$$\n",
    "$$ u(a) = U_a, u(b) = U_b $$"
   ]
  },
  {
   "cell_type": "markdown",
   "metadata": {},
   "source": [
    "### Решение задачи 2"
   ]
  },
  {
   "cell_type": "markdown",
   "metadata": {},
   "source": [
    "1. Cоставить разностную схему второго порядка точности и выписать коэффициенты матрицы системы уравнений и коэффициенты правой части. \n"
   ]
  },
  {
   "cell_type": "code",
   "execution_count": 1118,
   "metadata": {},
   "outputs": [],
   "source": [
    "p = lambda x: log(1 + x)\n",
    "q = lambda x: 5 / (1 + x)\n",
    "f = lambda x: 5 / (1 + x)\n",
    "left_bound, left_condition = 0, 0\n",
    "right_bound, right_condition = 2, 5\n",
    "eps = 0.05"
   ]
  },
  {
   "cell_type": "markdown",
   "metadata": {},
   "source": [
    "2. Подготовить тестовый пример и провести расчет для него. Построить на одном чертеже графики приближенного и точного решений для тестового примера. После проверки правильности работы программы перейти к решению основной задачи. \n",
    "\n",
    "В качестве тестового примера рассмотрим краевую задачу вида:\n",
    "$$ x^2y'' - 2xy' + 2y = x^2 + 1, x \\in (2, 5)$$\n",
    "$$ y(2) = 1.3 $$ \n",
    "$$ y(5) = 2.4 $$\n",
    "Аналитическим решением данной задачи является функция:\n",
    "$$ y(x) = -1.227x^2 + 3.468x + x^2(\\ln x - 1) + \\frac{1}{2} $$ "
   ]
  },
  {
   "cell_type": "code",
   "execution_count": 1119,
   "metadata": {},
   "outputs": [],
   "source": [
    "p = lambda x: -2 / x\n",
    "q = lambda x: 2 / (x ** 2)\n",
    "f = lambda x: 1 + 1 / (x ** 2)\n",
    "\n",
    "left_bound, left_condition = 2, 1.3\n",
    "right_bound, right_condition = 5, 2.4"
   ]
  },
  {
   "cell_type": "code",
   "execution_count": 1120,
   "metadata": {},
   "outputs": [],
   "source": [
    "solver = SecondOrderSchemeSolver(\n",
    "    p,\n",
    "    q,\n",
    "    f,\n",
    "    left_bound,\n",
    "    right_bound,\n",
    "    amount_points=100,\n",
    "    left_condition=left_condition,\n",
    "    right_condition=right_condition,\n",
    ")\n",
    "solver.solve()"
   ]
  },
  {
   "cell_type": "code",
   "execution_count": 1121,
   "metadata": {},
   "outputs": [],
   "source": [
    "analytic_solution = (\n",
    "    lambda x: -1.22696 * x ** 2 + 3.46762 * x + x ** 2 * (log(x) - 1) + 1 / 2.0\n",
    ")"
   ]
  },
  {
   "cell_type": "code",
   "execution_count": 1122,
   "metadata": {},
   "outputs": [
    {
     "data": {
      "image/png": "[encoded data removed]",
      "text/plain": [
       "<Figure size 432x288 with 1 Axes>"
      ]
     },
     "metadata": {
      "needs_background": "light"
     },
     "output_type": "display_data"
    }
   ],
   "source": [
    "plt.title(\"График аналитического решения и решения разностной схемой\")\n",
    "plt.xlabel(\"x\")\n",
    "plt.ylabel(\"y\")\n",
    "\n",
    "x = np.linspace(2, 5, 1000)\n",
    "plt.plot(x, np.vectorize(analytic_solution)(x))\n",
    "solver.plot_solution(mode=\"scatter\")\n",
    "plt.show()"
   ]
  },
  {
   "cell_type": "code",
   "execution_count": 1123,
   "metadata": {},
   "outputs": [
    {
     "name": "stdout",
     "output_type": "stream",
     "text": [
      "Ошибка для тестового примера 9.587405519007053e-05\n"
     ]
    }
   ],
   "source": [
    "print(\n",
    "    f\"Ошибка для тестового примера {Metrics.l_infinity_norm(np.vectorize(analytic_solution)(solver.x_points), solver.y_points)}\"\n",
    ")"
   ]
  },
  {
   "cell_type": "markdown",
   "metadata": {},
   "source": [
    "3. Для отыскания решения задачи с заданной точностью произвести расчет с начальным шагом $h$, затем уменьшить шаг вдвое. Вывести на экран два соседних приближенных решения и сравнить результаты. Если заданная точность не достигнута, то продолжить уменьшение шага.\n",
    "Условие исходя из номера варианта:\n",
    "$$p(x) = \\ln(1 + x) \\\\\n",
    "q(x) = \\frac{10}{1 + x} \\\\\n",
    "f(x) = \\frac{9}{1 + x} + x \\\\\n",
    "a = 0, b = 2 \\\\\n",
    "U_a = 5, U_b = 0 $$"
   ]
  },
  {
   "cell_type": "code",
   "execution_count": 1124,
   "metadata": {},
   "outputs": [],
   "source": [
    "p = lambda x: log(1 + x)\n",
    "q = lambda x: 10 / (1 + x)\n",
    "f = lambda x: x + 9 / (1 + x)\n",
    "left_bound = 0\n",
    "right_bound = 2\n",
    "left_condition = 5\n",
    "right_condition = 0\n",
    "eps = 0.01"
   ]
  },
  {
   "cell_type": "code",
   "execution_count": 1125,
   "metadata": {},
   "outputs": [],
   "source": [
    "solver_h_2 = SecondOrderSchemeSolver(\n",
    "    p,\n",
    "    q,\n",
    "    f,\n",
    "    left_bound,\n",
    "    right_bound,\n",
    "    h=0.2,\n",
    "    left_condition=left_condition,\n",
    "    right_condition=right_condition,\n",
    ")\n",
    "solver_h_2.solve()\n",
    "\n",
    "solver_h_1 = SecondOrderSchemeSolver(\n",
    "    p,\n",
    "    q,\n",
    "    f,\n",
    "    left_bound,\n",
    "    right_bound,\n",
    "    h=0.1,\n",
    "    left_condition=left_condition,\n",
    "    right_condition=right_condition,\n",
    ")\n",
    "solver_h_1.solve()"
   ]
  },
  {
   "cell_type": "code",
   "execution_count": 1126,
   "metadata": {},
   "outputs": [
    {
     "data": {
      "image/png": "[encoded data removed]",
      "text/plain": [
       "<Figure size 432x288 with 1 Axes>"
      ]
     },
     "metadata": {
      "needs_background": "light"
     },
     "output_type": "display_data"
    }
   ],
   "source": [
    "plt.title(\"Графики решения задачи разностной \\n схемой при шаге сетки h=0.1 и h=0.2\")\n",
    "plt.xlabel(\"x\")\n",
    "plt.ylabel(\"y\")\n",
    "\n",
    "solver_h_1.plot_solution(\"smooth\")\n",
    "solver_h_2.plot_solution(\"smooth\")\n",
    "plt.legend([\"Решение для шага h=0.1\", \"Решение для шага h=0.2\"])\n",
    "plt.show()"
   ]
  },
  {
   "cell_type": "markdown",
   "metadata": {},
   "source": [
    " 4. Построить график найденного решения и указать шаг, при котором заданная точность достигается.\n"
   ]
  },
  {
   "cell_type": "code",
   "execution_count": 1127,
   "metadata": {},
   "outputs": [
    {
     "name": "stdout",
     "output_type": "stream",
     "text": [
      "Шаг, при котором достигается точность порядка 0.01, равен h=0.047999999999999376, при этом ошибка равна error=0.00928656915896268\n"
     ]
    }
   ],
   "source": [
    "solver = SecondOrderSchemeSolver(\n",
    "    p,\n",
    "    q,\n",
    "    f,\n",
    "    left_bound,\n",
    "    right_bound,\n",
    "    h=0.7,\n",
    "    left_condition=left_condition,\n",
    "    right_condition=right_condition,\n",
    ")\n",
    "solver.solve()\n",
    "h, error = solver.get_solution_according_accuracy(Metrics.l_infinity_norm, eps=eps)\n",
    "print(\n",
    "    f\"Шаг, при котором достигается точность порядка {eps}, равен {h=}, при этом ошибка равна {error=}\"\n",
    ")"
   ]
  },
  {
   "cell_type": "code",
   "execution_count": 1128,
   "metadata": {},
   "outputs": [
    {
     "data": {
      "image/png": "[encoded data removed]",
      "text/plain": [
       "<Figure size 432x288 with 1 Axes>"
      ]
     },
     "metadata": {
      "needs_background": "light"
     },
     "output_type": "display_data"
    }
   ],
   "source": [
    "plt.title(\n",
    "    f\"Результат решения уравнения \\n методом конечных разностей с точностью {eps}\"\n",
    ")\n",
    "plt.xlabel(\"x\")\n",
    "plt.ylabel(\"y\")\n",
    "solver.plot_solution(mode=\"smooth\")"
   ]
  },
  {
   "cell_type": "markdown",
   "metadata": {},
   "source": [
    "## **Задача 3**"
   ]
  },
  {
   "cell_type": "markdown",
   "metadata": {},
   "source": [
    "1. Использовать разностную схему второго порядка точности. Для аппроксимации производных в граничных условиях воспользоваться разностными отношениями: $$ y'_0 = \\frac{-y_2 + 4y_1 - 3y_0}{2h} $$\n",
    "$$ y'_n = \\frac{3y_n - 4y_{n-1} + y_{n-2}}{2h} $$"
   ]
  },
  {
   "cell_type": "code",
   "execution_count": 1129,
   "metadata": {},
   "outputs": [],
   "source": [
    "class SecondOrderSchemeSolverBoundaryConditions(SecondOrderSchemeSolver):\n",
    "    def __init__(\n",
    "        self,\n",
    "        p_function,\n",
    "        q_function,\n",
    "        f_function,\n",
    "        left_bound,\n",
    "        right_bound,\n",
    "        h=0.1,\n",
    "        amount_points=None,\n",
    "        left_condition=None,\n",
    "        right_condition=None,\n",
    "    ):\n",
    "        super().__init__(\n",
    "            p_function,\n",
    "            q_function,\n",
    "            f_function,\n",
    "            left_bound,\n",
    "            right_bound,\n",
    "            h=h,\n",
    "            amount_points=amount_points,\n",
    "            left_condition=left_condition[0],\n",
    "            right_condition=right_condition[0],\n",
    "        )\n",
    "        self.left_condition_function = left_condition[1]\n",
    "        self.left_condition_derivative_function = left_condition[2]\n",
    "\n",
    "        self.right_condition_function = right_condition[1]\n",
    "        self.right_condition_derivative_function = right_condition[2]\n",
    "\n",
    "    def get_accuracy(self, metrics):\n",
    "        if self.y_points is None:\n",
    "            raise ValueError\n",
    "        left_condition = (\n",
    "            self.left_condition,\n",
    "            self.left_condition_function,\n",
    "            self.left_condition_derivative_function,\n",
    "        )\n",
    "        right_condition = (\n",
    "            self.right_condition,\n",
    "            self.right_condition_function,\n",
    "            self.right_condition_derivative_function,\n",
    "        )\n",
    "\n",
    "        double_h_solver = self.__class__(\n",
    "            self.p,\n",
    "            self.q,\n",
    "            self.f,\n",
    "            self.left_bound,\n",
    "            self.right_bound,\n",
    "            h=self.h * 2.0,\n",
    "            left_condition=left_condition,\n",
    "            right_condition=right_condition,\n",
    "        )\n",
    "        double_h_solver.solve()\n",
    "        return metrics(\n",
    "            self.y_points[::2],\n",
    "            double_h_solver.y_points\n",
    "            if self.y_points.size % 2 == 1\n",
    "            else double_h_solver.y_points[:-1],\n",
    "        ) / (2 ** self._order - 1)\n",
    "\n",
    "    def _get_difference_scheme_vectors(self):\n",
    "        (\n",
    "            upper_diagonal,\n",
    "            diagonal,\n",
    "            lower_diagonal,\n",
    "            result,\n",
    "        ) = super()._get_difference_scheme_vectors()\n",
    "\n",
    "        diagonal[0] = (\n",
    "            (-3 / 2.0 + lower_diagonal[0] / (2 * upper_diagonal[1]))\n",
    "            * self.left_condition_derivative_function\n",
    "            + self.left_condition_function * self.h\n",
    "        )\n",
    "        upper_diagonal[0] = (\n",
    "            2 + diagonal[1] / (2 * upper_diagonal[1])\n",
    "        ) * self.left_condition_derivative_function\n",
    "        result[0] += (\n",
    "            result[1]\n",
    "            * self.left_condition_derivative_function\n",
    "            / (2 * upper_diagonal[1])\n",
    "        )\n",
    "\n",
    "        lower_diagonal[-1] = (\n",
    "            -2 - diagonal[-2] / (2.0 * lower_diagonal[-2])\n",
    "        ) * self.right_condition_derivative_function\n",
    "        diagonal[-1] = (\n",
    "            (3 / 2 - upper_diagonal[-1] / (2.0 * lower_diagonal[-2]))\n",
    "            * self.right_condition_derivative_function\n",
    "            + self.right_condition_function * self.h\n",
    "        )\n",
    "        result[-1] -= (\n",
    "            result[-2] / (2.0 * lower_diagonal[-2])\n",
    "        ) * self.right_condition_derivative_function\n",
    "\n",
    "        return upper_diagonal, diagonal, lower_diagonal, result"
   ]
  },
  {
   "cell_type": "markdown",
   "metadata": {},
   "source": [
    "2. Организовать компактное хранение ненулевых элементов трехдиагональной матрицы системы разностных уравнений. "
   ]
  },
  {
   "cell_type": "markdown",
   "metadata": {},
   "source": [
    "3. Подготовить самостоятельно тестовый пример и провести расчет для него. Построить на одном чертеже графики приближенного и точного решений для тестового примера. После проверки правильности работы программы перейти к решению основной задачи.\n"
   ]
  },
  {
   "cell_type": "markdown",
   "metadata": {},
   "source": [
    "В качестве тестового примера рассмотрим краевую задачу третьго рода:\n",
    "$$ \\left( {x - 1} \\right)y'' - xy' + y = {\\left( {x - 1} \\right)^2}, 2 \\le x \\le 4$$\n",
    "$$ y'(2) = 2 $$\n",
    "$$ y'(4) + 2y(4) = 5$$\n",
    "Применив формулу Лиувилля-Остроградского можно получить общее решение уравнения:\n",
    "$$ y(x) = {{A_1}{e^x} + {A_2}x - {x^2} - x - 1}$$ \n",
    "Найдем коэффициенты $A_1$ и $A_2$ при помощи краевых условий третьего рода:\n",
    "$$ A_1e^2 + A_2 - 4 - 1 = 2$$\n",
    "$$ 3A_1e^{4} + 9A_2 - 51 = 5 $$\n",
    "Получим систему линейных уравнений:\n",
    "$$ 7.4A_1 + A_2 = 7$$\n",
    "$$ 163.8A_1 + 9A_2 = 56 $$\n",
    "Решив ее получим коэффициенты $A_1=-0.072$ и $A_2 = 7.532$. Решение примет вид:\n",
    "$$y(x) = {-0.072{e^x} + 7.532x - {x^2} - x - 1} $$"
   ]
  },
  {
   "cell_type": "code",
   "execution_count": 1130,
   "metadata": {},
   "outputs": [],
   "source": [
    "analytic_solution = lambda x: -0.072 * exp(x) + 7.532 * x - x ** 2 - x - 1"
   ]
  },
  {
   "cell_type": "markdown",
   "metadata": {},
   "source": [
    "Решим данную задачу при помощи разностной схемы:"
   ]
  },
  {
   "cell_type": "code",
   "execution_count": 1131,
   "metadata": {},
   "outputs": [],
   "source": [
    "p_test = lambda x: -x / (x - 1)\n",
    "q_test = lambda x: 1 / (x - 1)\n",
    "f_test = lambda x: (x - 1)\n",
    "\n",
    "left_bound = 2\n",
    "left_condition = (lambda h: h * 2, 0, 1)\n",
    "\n",
    "right_bound = 4\n",
    "right_condition = (lambda h: h * 5, 2, 1)"
   ]
  },
  {
   "cell_type": "code",
   "execution_count": 1132,
   "metadata": {},
   "outputs": [],
   "source": [
    "solver = SecondOrderSchemeSolverBoundaryConditions(\n",
    "    p_test,\n",
    "    q_test,\n",
    "    f_test,\n",
    "    left_bound,\n",
    "    right_bound,\n",
    "    amount_points=100,\n",
    "    left_condition=left_condition,\n",
    "    right_condition=right_condition,\n",
    ")\n",
    "solver.solve()"
   ]
  },
  {
   "cell_type": "code",
   "execution_count": 1133,
   "metadata": {},
   "outputs": [
    {
     "data": {
      "image/png": "[encoded data removed]",
      "text/plain": [
       "<Figure size 432x288 with 1 Axes>"
      ]
     },
     "metadata": {
      "needs_background": "light"
     },
     "output_type": "display_data"
    }
   ],
   "source": [
    "plt.title(\"График аналитического решения и решения разностной схемой\")\n",
    "plt.xlabel(\"x\")\n",
    "plt.ylabel(\"y\")\n",
    "\n",
    "x = np.linspace(2, 4, 1000)\n",
    "plt.plot(x, np.vectorize(analytic_solution)(x))\n",
    "solver.plot_solution(mode=\"scatter\")\n",
    "plt.show()"
   ]
  },
  {
   "cell_type": "code",
   "execution_count": 1134,
   "metadata": {},
   "outputs": [
    {
     "name": "stdout",
     "output_type": "stream",
     "text": [
      "Ошибка для тестового примера 0.0010788749297834244\n"
     ]
    }
   ],
   "source": [
    "print(\n",
    "    f\"Ошибка для тестового примера {Metrics.l_infinity_norm(np.vectorize(analytic_solution)(solver.x_points), solver.y_points)}\"\n",
    ")"
   ]
  },
  {
   "cell_type": "markdown",
   "metadata": {},
   "source": [
    "Теперь рассмотрим краевую задачу третьего рода указанного в задании:\n",
    "$$u'' - {u'} + 2x^2u = x+1$$\n",
    "$$u(1.3)=1$$\n",
    "$$u(2.4) + u'(2.4) = 3.2 $$\n"
   ]
  },
  {
   "cell_type": "code",
   "execution_count": 1135,
   "metadata": {},
   "outputs": [],
   "source": [
    "p = lambda x: -1\n",
    "q = lambda x: 2 * x ** 2\n",
    "f = lambda x: x + 1\n",
    "\n",
    "left_bound = 1.3\n",
    "right_bound = 2.51\n",
    "\n",
    "left_condition = (lambda h: h, 1, 0)\n",
    "right_condition = (lambda h: 3.2 * h, 1, 1)\n",
    "eps = 0.01"
   ]
  },
  {
   "cell_type": "code",
   "execution_count": 1136,
   "metadata": {},
   "outputs": [
    {
     "name": "stdout",
     "output_type": "stream",
     "text": [
      "Шаг, при котором достигается точность порядка 0.01, равен h=0.10199999999999954,\n",
      " при этом ошибка равна error=0.009969148690432306\n"
     ]
    }
   ],
   "source": [
    "solver = SecondOrderSchemeSolverBoundaryConditions(\n",
    "    p,\n",
    "    q,\n",
    "    f,\n",
    "    left_bound,\n",
    "    right_bound,\n",
    "    h=0.6,\n",
    "    left_condition=left_condition,\n",
    "    right_condition=right_condition,\n",
    ")\n",
    "solver.solve()\n",
    "h, error = solver.get_solution_according_accuracy(Metrics.l_infinity_norm, eps=eps)\n",
    "print(\n",
    "    f\"Шаг, при котором достигается точность порядка {eps}, равен {h=},\\n при этом ошибка равна {error=}\"\n",
    ")"
   ]
  },
  {
   "cell_type": "code",
   "execution_count": 1137,
   "metadata": {},
   "outputs": [
    {
     "data": {
      "image/png": "[encoded data removed]",
      "text/plain": [
       "<Figure size 432x288 with 1 Axes>"
      ]
     },
     "metadata": {
      "needs_background": "light"
     },
     "output_type": "display_data"
    }
   ],
   "source": [
    "plt.title(\n",
    "    f\"Результат решения уравнения \\n методом конечных разностей с точностью {eps}\"\n",
    ")\n",
    "plt.xlabel(\"x\")\n",
    "plt.ylabel(\"y\")\n",
    "solver.plot_solution(mode=\"smooth\")"
   ]
  },
  {
   "cell_type": "markdown",
   "metadata": {},
   "source": [
    "## **Задача 4**"
   ]
  },
  {
   "cell_type": "markdown",
   "metadata": {},
   "source": [
    "Методом конечных разностей найти приближенное решение краевой задачи с тремя верными значащими цифрами. Решение системы разностных уравнений найти, используя метод прогонки \n",
    "$$ (-k(x)u')' + q(x)u = f(x), x \\in (a, b) \\\\\n",
    "-k(a)u'(a) + 0.5u(a) = 0 \\\\\n",
    "k(b)u'(b) + 0.5u(b) = 0 $$"
   ]
  },
  {
   "cell_type": "markdown",
   "metadata": {},
   "source": [
    "1.Использовать разностную схему второго порядка точности \n",
    "\n",
    "2.При аппроксимации производных в граничных условиях использовать метод баланса.\n",
    "\n",
    "Для приближения прозводной в граничных условиях используем метод баланса, который уже включен в реализацию функции `_get_difference_scheme_vectors`"
   ]
  },
  {
   "cell_type": "code",
   "execution_count": 1138,
   "metadata": {},
   "outputs": [],
   "source": [
    "class SecondOrderSchemeSolverBalanceMethod(AbstractDifferenceSchemeSolver):\n",
    "    def __init__(self, k_function, q_function, f_function, left_bound, right_bound, h):\n",
    "        self.k = k_function\n",
    "        self.q = q_function\n",
    "        self.f = f_function\n",
    "\n",
    "        self.left_bound = left_bound\n",
    "        self.right_bound = right_bound\n",
    "        self.left_condition = 0\n",
    "        self.right_condition = 0\n",
    "\n",
    "        self.h = h\n",
    "\n",
    "        self.x_points = np.arange(self.left_bound, self.right_bound + self.h, self.h)\n",
    "        self.y_points = None\n",
    "        self._order = 2\n",
    "\n",
    "    def get_accuracy(self, metrics):\n",
    "        if self.y_points is None:\n",
    "            raise ValueError\n",
    "        double_h_solver = self.__class__(\n",
    "            self.k, self.q, self.f, self.left_bound, self.right_bound, h=self.h * 2.0\n",
    "        )\n",
    "        double_h_solver.solve()\n",
    "        return metrics(\n",
    "            self.y_points[::2],\n",
    "            double_h_solver.y_points\n",
    "            if self.y_points.size % 2 == 1\n",
    "            else double_h_solver.y_points[:-1],\n",
    "        ) / (2 ** self._order - 1)\n",
    "\n",
    "    def _get_difference_scheme_vectors(self):\n",
    "        diagonal = np.zeros(self.x_points.size)\n",
    "        lower_diagonal = np.zeros(self.x_points.size - 1)\n",
    "        upper_diagonal = np.zeros(self.x_points.size - 1)\n",
    "\n",
    "        result = np.zeros(self.x_points.size)\n",
    "        result[1:-1] = np.vectorize(lambda x: self.h ** 2 * self.f(x))(\n",
    "            self.x_points[1:-1]\n",
    "        )\n",
    "\n",
    "        diagonal[1:-1] = np.vectorize(\n",
    "            lambda x: 2 * self.k(x) + self.q(x) * self.h ** 2\n",
    "        )(self.x_points[1:-1])\n",
    "        lower_diagonal[:-1] = np.vectorize(lambda x: -self.k(x))(self.x_points[1:-1])\n",
    "        upper_diagonal[1:] = np.vectorize(lambda x: -self.k(x))(self.x_points[1:-1])\n",
    "\n",
    "        diagonal[0] = self.h / 4.0 + self.k(self.left_bound)\n",
    "        upper_diagonal[0] = self.h / 4.0 - self.k(self.left_bound)\n",
    "\n",
    "        diagonal[-1] = self.h / 4.0 + self.k(self.right_bound)\n",
    "        lower_diagonal[-1] = self.h / 4.0 - self.k(self.right_bound)\n",
    "\n",
    "        return upper_diagonal, diagonal, lower_diagonal, result"
   ]
  },
  {
   "cell_type": "markdown",
   "metadata": {},
   "source": [
    "Решим задачу исходя из варианта:\n",
    "$$ a = 0, b = 2.5, c = 1.875$$\n",
    "$$ k(x) \n",
    "   = \\begin{cases}\n",
    "        1.2,  x \\in (a, c)\n",
    "        \\\\\n",
    "        0.5,  x \\in (c, b)\n",
    "        \\end{cases} $$\n",
    " \n",
    " $$ q(x)\n",
    "   = \\begin{cases}\n",
    "        8.3,  x \\in (a, c)\n",
    "        \\\\\n",
    "        3.5,  x \\in (c, b)\n",
    "        \\end{cases}$$\n",
    "$$ f(x) = 9 / (1 + 0.5 x^2 ) $$"
   ]
  },
  {
   "cell_type": "code",
   "execution_count": 1139,
   "metadata": {},
   "outputs": [],
   "source": [
    "a = 0\n",
    "b = 2.5\n",
    "c = 1.875\n",
    "k = lambda x: 1.2 if a <= x < c else 0.5\n",
    "q = lambda x: 8.3 if a <= x < c else 3.5\n",
    "f = lambda x: 9 / (1 + 0.5 * x**2)\n",
    "eps = 0.001"
   ]
  },
  {
   "cell_type": "code",
   "execution_count": 1140,
   "metadata": {},
   "outputs": [],
   "source": [
    "solver = SecondOrderSchemeSolverBalanceMethod(k, q, f, a, b, h=0.7)\n",
    "solver.solve()"
   ]
  },
  {
   "cell_type": "code",
   "execution_count": 1141,
   "metadata": {},
   "outputs": [
    {
     "name": "stdout",
     "output_type": "stream",
     "text": [
      "Шаг, при котором достигается точность порядка 0.001, равен h=0.007999999999999341,\n",
      " при этом ошибка равна error=0.0008735386495066036\n"
     ]
    }
   ],
   "source": [
    "h, error = solver.get_solution_according_accuracy(Metrics.l_infinity_norm, eps=eps)\n",
    "print(\n",
    "    f\"Шаг, при котором достигается точность порядка {eps}, равен {h=},\\n при этом ошибка равна {error=}\"\n",
    ")"
   ]
  },
  {
   "cell_type": "code",
   "execution_count": 1142,
   "metadata": {},
   "outputs": [
    {
     "data": {
      "image/png": "[encoded data removed]",
      "text/plain": [
       "<Figure size 432x288 with 1 Axes>"
      ]
     },
     "metadata": {
      "needs_background": "light"
     },
     "output_type": "display_data"
    }
   ],
   "source": [
    "plt.title(\n",
    "    f\"Результат решения уравнения \\n методом конечных разностей с точностью {eps}\"\n",
    ")\n",
    "plt.xlabel(\"x\")\n",
    "plt.ylabel(\"y\")\n",
    "solver.plot_solution(mode=\"smooth\")"
   ]
  },
  {
   "cell_type": "markdown",
   "metadata": {},
   "source": [
    "## Вывод"
   ]
  },
  {
   "cell_type": "markdown",
   "metadata": {},
   "source": [
    "В ходе лабораторной работы мы изучили методы разностных аппроксимаций с вторым порядком точности для краевых задач первого и третьего рода. В результате чего получили численно ререшение заданных краевых задач с заданными точностями и посчитали ошибку. Рассмотрев решения с различным шагом h, удостоверились что порядок решения данных разностных схем $O(h^2)$.\n",
    "\n",
    "Также программный продукт проверен на тестовых примерах, сравнив тем самым результат работы программы с аналитическим решением."
   ]
  }
 ],
 "metadata": {
  "interpreter": {
   "hash": "aee8b7b246df8f9039afb4144a1f6fd8d2ca17a180786b69acc140d282b71a49"
  },
  "kernelspec": {
   "display_name": "Python 3.9.5 64-bit",
   "name": "python3"
  },
  "language_info": {
   "codemirror_mode": {
    "name": "ipython",
    "version": 3
   },
   "file_extension": ".py",
   "mimetype": "text/x-python",
   "name": "python",
   "nbconvert_exporter": "python",
   "pygments_lexer": "ipython3",
   "version": "3.9.5"
  }
 },
 "nbformat": 4,
 "nbformat_minor": 4
}
