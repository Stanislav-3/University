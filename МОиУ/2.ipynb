{
 "cells": [
  {
   "cell_type": "code",
   "execution_count": 15,
   "metadata": {},
   "outputs": [],
   "source": [
    "import numpy as np\n",
    "from scipy.optimize import linprog"
   ]
  },
  {
   "cell_type": "code",
   "execution_count": 16,
   "metadata": {},
   "outputs": [],
   "source": [
    "def dot(A, B, index):\n",
    "    C = np.zeros(A.shape)\n",
    "    for i in range(len(A)):\n",
    "        for j in range(len(A)):\n",
    "            C[i][j] += A[i][index] * B[index][j]\n",
    "            if i != index:\n",
    "                C[i][j] += B[i][j]\n",
    "\n",
    "    return C"
   ]
  },
  {
   "cell_type": "code",
   "execution_count": 17,
   "metadata": {},
   "outputs": [],
   "source": [
    "def find_inv(A_inv: np.array, x: np.array, index: int):\n",
    "    # 1:\n",
    "    l = A_inv @ x\n",
    "    if l[index] == 0:\n",
    "        return False\n",
    "\n",
    "    # 2:\n",
    "    l_wave = np.copy(l)\n",
    "    l_wave[index] = -1.\n",
    "\n",
    "    # 3:\n",
    "    l_hat = -1. / l[index] * l_wave\n",
    "\n",
    "    # 4:\n",
    "    Q = np.identity(len(x))\n",
    "    Q[:, index] = l_hat\n",
    "\n",
    "    # 5:\n",
    "    return dot(Q, A_inv, index)"
   ]
  },
  {
   "cell_type": "code",
   "execution_count": 18,
   "metadata": {},
   "outputs": [],
   "source": [
    "def solve(c: np.array, A: np.array, x: np.array):\n",
    "    i = 0\n",
    "    while True:\n",
    "        if i == 0:\n",
    "            B = np.nonzero(x)[0]\n",
    "            \n",
    "        #1\n",
    "        A_B = A[:, B]\n",
    "        if i == 0:\n",
    "            A_B_inv = np.linalg.inv(A_B)\n",
    "        else:\n",
    "            A_B_inv = find_inv(A_B_inv, A[:, j_0], k)\n",
    "            \n",
    "        #2\n",
    "        c_B = c[B]\n",
    "\n",
    "        #3\n",
    "        u = c_B @ A_B_inv\n",
    "\n",
    "        #4\n",
    "        delta = u @ A - c\n",
    "\n",
    "        #5 \n",
    "        if (delta >= 0).all():\n",
    "            return x\n",
    "            \n",
    "        #6\n",
    "        j_0 = np.argmax(delta < 0)\n",
    "\n",
    "        #7\n",
    "        z = A_B_inv @ A[:, j_0]\n",
    "\n",
    "        #8\n",
    "        theta = np.empty(len(z))\n",
    "        for i in range(len(z)):\n",
    "            if z[i] > 0:\n",
    "                theta[i] = x[B[i]] / z[i]\n",
    "            else:\n",
    "                theta[i] = np.Inf\n",
    "\n",
    "        #9\n",
    "        theta_0 = np.min(theta)\n",
    "\n",
    "        #10\n",
    "        if theta_0 == np.inf:\n",
    "            raise ValueError('Целевой функционал задачи не ограничен сверху на множестве допустимых планов')\n",
    "        \n",
    "        #11\n",
    "        k = np.argmin(theta)\n",
    "        j_asterisk = B[k]\n",
    "\n",
    "        #12\n",
    "        B[k] = j_0\n",
    "\n",
    "        #13\n",
    "        x[j_0] = theta_0\n",
    "        for i in range(len(B)):\n",
    "            if i == k:\n",
    "                continue\n",
    "            x[B[i]] -= theta_0 * z[i]\n",
    "        x[j_asterisk] = 0\n",
    "\n",
    "        i += 1"
   ]
  },
  {
   "cell_type": "code",
   "execution_count": 19,
   "metadata": {},
   "outputs": [],
   "source": [
    "tests = [\n",
    "    {\n",
    "        'c': np.array([1, 1, 0, 0, 0]),\n",
    "        'A': np.array([\n",
    "                [-1, 1, 1, 0, 0],\n",
    "                [1, 0, 0, 1, 0],\n",
    "                [0, 1, 0, 0, 1]]),\n",
    "        'x': np.array([0, 0, 1, 3, 2]),\n",
    "        'b': np.array([1, 3, 2])\n",
    "    },\n",
    "]"
   ]
  },
  {
   "cell_type": "code",
   "execution_count": 20,
   "metadata": {},
   "outputs": [],
   "source": [
    "for i in range(len(tests)):\n",
    "    test = tests[i]\n",
    "    result1 = linprog(-test['c'], A_eq=test['A'], b_eq=test['b'])\n",
    "    result2 = solve(test['c'], test['A'], test['x'])\n",
    "    \n",
    "    if type(result2) is str:\n",
    "        assert result1.message == 'The algorithm terminated successfully and determined that the problem is infeasible.'\n",
    "    else:\n",
    "        assert np.allclose(result1.x, result2)"
   ]
  }
 ],
 "metadata": {
  "interpreter": {
   "hash": "aee8b7b246df8f9039afb4144a1f6fd8d2ca17a180786b69acc140d282b71a49"
  },
  "kernelspec": {
   "display_name": "Python 3.9.5 64-bit",
   "language": "python",
   "name": "python3"
  },
  "language_info": {
   "codemirror_mode": {
    "name": "ipython",
    "version": 3
   },
   "file_extension": ".py",
   "mimetype": "text/x-python",
   "name": "python",
   "nbconvert_exporter": "python",
   "pygments_lexer": "ipython3",
   "version": "3.9.5"
  },
  "orig_nbformat": 4
 },
 "nbformat": 4,
 "nbformat_minor": 2
}
