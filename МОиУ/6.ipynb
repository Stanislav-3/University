{
 "cells": [
  {
   "cell_type": "code",
   "execution_count": 1,
   "metadata": {},
   "outputs": [],
   "source": [
    "import numpy as np\n",
    "from copy import deepcopy"
   ]
  },
  {
   "cell_type": "code",
   "execution_count": 2,
   "metadata": {},
   "outputs": [],
   "source": [
    "def solve(c: np.array, x: np.array, D: np.array, A: np.array, b: np.array, J_b: list, J_b_ext: list):\n",
    "    c = deepcopy(c)\n",
    "    x = deepcopy(x)\n",
    "    D = deepcopy(D)\n",
    "    A = deepcopy(A)\n",
    "    b = deepcopy(b)\n",
    "    J_b = deepcopy(J_b)\n",
    "    J_b = deepcopy(J_b_ext)\n",
    "\n",
    "    while True:\n",
    "        #1\n",
    "        A_b = A[:, J_b]\n",
    "        A_b_inv = np.linalg.inv(A_b)\n",
    "        c_dash = c + x @ D\n",
    "        u_dash = -c_dash[J_b] @ A_b_inv\n",
    "        delta_dash = u_dash @ A + c_dash\n",
    "\n",
    "        #2\n",
    "        if (delta_dash >= 0).all():\n",
    "            return x\n",
    "        \n",
    "        #3\n",
    "        j_0 = np.argmax(delta_dash < 0)\n",
    "\n",
    "        #4\n",
    "        l = np.zeros(len(x))\n",
    "        l[j_0] = 1\n",
    "        A_b_ext = A[:, J_b_ext]\n",
    "\n",
    "        H = np.bmat([\n",
    "            [D[J_b_ext, :][:, J_b_ext], A_b_ext.T],\n",
    "            [A_b_ext, np.zeros((len(A), len(A)))]\n",
    "        ])\n",
    "        H_inv = np.linalg.inv(H)\n",
    "\n",
    "        b_asterisk = np.concatenate((D[J_b_ext, j_0], A[:, j_0]))\n",
    "        x_ = np.array(-H_inv @ b_asterisk)[0]\n",
    "        l[:len(J_b_ext)] = x_[:len(J_b_ext)]\n",
    "        \n",
    "        #5\n",
    "        delta = l @ D @ l\n",
    "        theta = {}\n",
    "        theta[j_0] = np.inf if delta == 0 else np.abs(delta_dash[j_0]) / delta\n",
    "        \n",
    "        for j in J_b_ext:\n",
    "            theta[j] = -x[j] / l[j] if l[j] < 0 else np.inf\n",
    "        \n",
    "        j_asterisk = min(theta, key=theta.get)\n",
    "        theta_0 = theta[j_asterisk]\n",
    "\n",
    "        if theta_0 == np.inf:\n",
    "            return 'Целевая функция задачи не ограничена снизу на множестве допустимых планом.'\n",
    "        \n",
    "        #6\n",
    "        x = x + theta_0 * l\n",
    "        if j_asterisk == j_0:\n",
    "            J_b_ext.append(j_asterisk)\n",
    "        elif j_asterisk in J_b_ext and j_asterisk not in J_b:\n",
    "            J_b_ext.remove(j_asterisk)\n",
    "        elif j_asterisk in J_b:\n",
    "            third_condition = False\n",
    "            s = J_b.index(j_asterisk)\n",
    "\n",
    "            for j_plus in set(J_b_ext).difference(J_b):\n",
    "                if (A_b_inv @ A[:, j_plus])[s] != 0:\n",
    "                    third_condition = True\n",
    "                    J_b[s] = j_plus\n",
    "                    J_b_ext.remove(j_asterisk)\n",
    "            # if not third_condition or J_b == J_b_ext:\n",
    "            if not  third_condition:\n",
    "                J_b[s] = j_0\n",
    "                J_b_ext[J_b_ext.index(j_asterisk)] = j_0"
   ]
  },
  {
   "cell_type": "code",
   "execution_count": 3,
   "metadata": {},
   "outputs": [
    {
     "data": {
      "text/plain": [
       "array([1.7, 2.4, 0. , 0.3])"
      ]
     },
     "execution_count": 3,
     "metadata": {},
     "output_type": "execute_result"
    }
   ],
   "source": [
    "x = np.array([2, 3, 0, 0])\n",
    "J_b = [0, 1]\n",
    "J_b_ext = [0, 1]\n",
    "c = np.array([-8, -6, -4, -6])\n",
    "A = np.array([[1, 0, 2, 1], [0, 1, -1, 2]])\n",
    "D = np.array([[2, 1, 1, 0], [1, 1, 0, 0], [1, 0, 1, 0], [0, 0, 0, 0]])\n",
    "b = np.array([2, 3])\n",
    "\n",
    "solve(c, x, D, A, b, J_b, J_b_ext)"
   ]
  },
  {
   "cell_type": "code",
   "execution_count": 4,
   "metadata": {},
   "outputs": [],
   "source": [
    "tests = [\n",
    "    {\n",
    "        'c': np.array([-8., -6., -4., -6.]),\n",
    "        'x': np.array([2., 3., 0., 0.]),\n",
    "        'D': np.array([[2., 1., 1., 0.],\n",
    "                       [1., 1., 0., 0.],\n",
    "                       [1., 0., 1., 0.],\n",
    "                       [0., 0., 0., 0.]]),\n",
    "        'A': np.array([[1., 0., 2., 1.],\n",
    "                       [0., 1., -1., 2.]]),\n",
    "        'b': np.array([2., 3.]),\n",
    "        'J_b': [0, 1],\n",
    "        'J_b_ext': [0, 1]\n",
    "    },\n",
    "    {\n",
    "        'c': np.array([0, -1, 0]),\n",
    "        'x': np.array([0, 2, 1]),\n",
    "        'D': np.array([[2, -1, 0],\n",
    "                       [-1, 2, -1],\n",
    "                       [0, -1, 2]]),\n",
    "        'A': np.array([[2, 1, 0],\n",
    "                       [0, 1, 2]]),\n",
    "        'b': None,\n",
    "        'J_b': [1, 2],\n",
    "        'J_b_ext': [1, 2]\n",
    "    },\n",
    "    {\n",
    "        'c': np.array([0, 0, -2]),\n",
    "        'D': np.array([[1, 0, 0],\n",
    "                       [0, 1, -1],\n",
    "                       [0, -1, 2]]),\n",
    "        'A': np.array([[0, 1, 1],\n",
    "                       [1, 0, 1]]),\n",
    "        'x': np.array([2, 4, 0]),\n",
    "        'b': None,\n",
    "        'J_b': [0, 1],\n",
    "        'J_b_ext': [0, 1]\n",
    "    },\n",
    "]"
   ]
  },
  {
   "cell_type": "code",
   "execution_count": 5,
   "metadata": {},
   "outputs": [],
   "source": [
    "# for test in tests:\n",
    "#     print(solve(test['c'], test['x'], test['D'], test['A'], test['b'], test['J_b'], test['J_b_ext']))"
   ]
  },
  {
   "cell_type": "code",
   "execution_count": 6,
   "metadata": {},
   "outputs": [],
   "source": [
    "lalala = {\n",
    "        'c': np.array([0, -1, 0]),\n",
    "        'x': np.array([0, 2, 1]),\n",
    "        'D': np.array([[2, -1, 0],\n",
    "                       [-1, 2, -1],\n",
    "                       [0, -1, 2]]),\n",
    "        'A': np.array([[2, 1, 0],\n",
    "                       [0, 1, 2]]),\n",
    "        'b': None,\n",
    "        'Jb': [1, 2],\n",
    "        'Jb_ast': [1, 2]\n",
    "    }"
   ]
  },
  {
   "cell_type": "code",
   "execution_count": 7,
   "metadata": {},
   "outputs": [
    {
     "ename": "LinAlgError",
     "evalue": "Singular matrix",
     "output_type": "error",
     "traceback": [
      "\u001b[0;31m---------------------------------------------------------------------------\u001b[0m",
      "\u001b[0;31mLinAlgError\u001b[0m                               Traceback (most recent call last)",
      "\u001b[0;32m/var/folders/8b/pxxxz31x0jz3q6g0qyhq87cw0000gn/T/ipykernel_59023/4194182128.py\u001b[0m in \u001b[0;36m<module>\u001b[0;34m\u001b[0m\n\u001b[0;32m----> 1\u001b[0;31m \u001b[0mprint\u001b[0m\u001b[0;34m(\u001b[0m\u001b[0msolve\u001b[0m\u001b[0;34m(\u001b[0m\u001b[0mlalala\u001b[0m\u001b[0;34m[\u001b[0m\u001b[0;34m'c'\u001b[0m\u001b[0;34m]\u001b[0m\u001b[0;34m,\u001b[0m \u001b[0mlalala\u001b[0m\u001b[0;34m[\u001b[0m\u001b[0;34m'x'\u001b[0m\u001b[0;34m]\u001b[0m\u001b[0;34m,\u001b[0m \u001b[0mlalala\u001b[0m\u001b[0;34m[\u001b[0m\u001b[0;34m'D'\u001b[0m\u001b[0;34m]\u001b[0m\u001b[0;34m,\u001b[0m \u001b[0mlalala\u001b[0m\u001b[0;34m[\u001b[0m\u001b[0;34m'A'\u001b[0m\u001b[0;34m]\u001b[0m\u001b[0;34m,\u001b[0m \u001b[0mlalala\u001b[0m\u001b[0;34m[\u001b[0m\u001b[0;34m'b'\u001b[0m\u001b[0;34m]\u001b[0m\u001b[0;34m,\u001b[0m \u001b[0mlalala\u001b[0m\u001b[0;34m[\u001b[0m\u001b[0;34m'Jb'\u001b[0m\u001b[0;34m]\u001b[0m\u001b[0;34m,\u001b[0m \u001b[0mlalala\u001b[0m\u001b[0;34m[\u001b[0m\u001b[0;34m'Jb_ast'\u001b[0m\u001b[0;34m]\u001b[0m\u001b[0;34m)\u001b[0m\u001b[0;34m)\u001b[0m\u001b[0;34m\u001b[0m\u001b[0;34m\u001b[0m\u001b[0m\n\u001b[0m",
      "\u001b[0;32m/var/folders/8b/pxxxz31x0jz3q6g0qyhq87cw0000gn/T/ipykernel_59023/709080974.py\u001b[0m in \u001b[0;36msolve\u001b[0;34m(c, x, D, A, b, J_b, J_b_ext)\u001b[0m\n\u001b[1;32m     11\u001b[0m         \u001b[0;31m#1\u001b[0m\u001b[0;34m\u001b[0m\u001b[0;34m\u001b[0m\u001b[0;34m\u001b[0m\u001b[0m\n\u001b[1;32m     12\u001b[0m         \u001b[0mA_b\u001b[0m \u001b[0;34m=\u001b[0m \u001b[0mA\u001b[0m\u001b[0;34m[\u001b[0m\u001b[0;34m:\u001b[0m\u001b[0;34m,\u001b[0m \u001b[0mJ_b\u001b[0m\u001b[0;34m]\u001b[0m\u001b[0;34m\u001b[0m\u001b[0;34m\u001b[0m\u001b[0m\n\u001b[0;32m---> 13\u001b[0;31m         \u001b[0mA_b_inv\u001b[0m \u001b[0;34m=\u001b[0m \u001b[0mnp\u001b[0m\u001b[0;34m.\u001b[0m\u001b[0mlinalg\u001b[0m\u001b[0;34m.\u001b[0m\u001b[0minv\u001b[0m\u001b[0;34m(\u001b[0m\u001b[0mA_b\u001b[0m\u001b[0;34m)\u001b[0m\u001b[0;34m\u001b[0m\u001b[0;34m\u001b[0m\u001b[0m\n\u001b[0m\u001b[1;32m     14\u001b[0m         \u001b[0mc_dash\u001b[0m \u001b[0;34m=\u001b[0m \u001b[0mc\u001b[0m \u001b[0;34m+\u001b[0m \u001b[0mx\u001b[0m \u001b[0;34m@\u001b[0m \u001b[0mD\u001b[0m\u001b[0;34m\u001b[0m\u001b[0;34m\u001b[0m\u001b[0m\n\u001b[1;32m     15\u001b[0m         \u001b[0mu_dash\u001b[0m \u001b[0;34m=\u001b[0m \u001b[0;34m-\u001b[0m\u001b[0mc_dash\u001b[0m\u001b[0;34m[\u001b[0m\u001b[0mJ_b\u001b[0m\u001b[0;34m]\u001b[0m \u001b[0;34m@\u001b[0m \u001b[0mA_b_inv\u001b[0m\u001b[0;34m\u001b[0m\u001b[0;34m\u001b[0m\u001b[0m\n",
      "\u001b[0;32m<__array_function__ internals>\u001b[0m in \u001b[0;36minv\u001b[0;34m(*args, **kwargs)\u001b[0m\n",
      "\u001b[0;32m/usr/local/lib/python3.9/site-packages/numpy/linalg/linalg.py\u001b[0m in \u001b[0;36minv\u001b[0;34m(a)\u001b[0m\n\u001b[1;32m    543\u001b[0m     \u001b[0msignature\u001b[0m \u001b[0;34m=\u001b[0m \u001b[0;34m'D->D'\u001b[0m \u001b[0;32mif\u001b[0m \u001b[0misComplexType\u001b[0m\u001b[0;34m(\u001b[0m\u001b[0mt\u001b[0m\u001b[0;34m)\u001b[0m \u001b[0;32melse\u001b[0m \u001b[0;34m'd->d'\u001b[0m\u001b[0;34m\u001b[0m\u001b[0;34m\u001b[0m\u001b[0m\n\u001b[1;32m    544\u001b[0m     \u001b[0mextobj\u001b[0m \u001b[0;34m=\u001b[0m \u001b[0mget_linalg_error_extobj\u001b[0m\u001b[0;34m(\u001b[0m\u001b[0m_raise_linalgerror_singular\u001b[0m\u001b[0;34m)\u001b[0m\u001b[0;34m\u001b[0m\u001b[0;34m\u001b[0m\u001b[0m\n\u001b[0;32m--> 545\u001b[0;31m     \u001b[0mainv\u001b[0m \u001b[0;34m=\u001b[0m \u001b[0m_umath_linalg\u001b[0m\u001b[0;34m.\u001b[0m\u001b[0minv\u001b[0m\u001b[0;34m(\u001b[0m\u001b[0ma\u001b[0m\u001b[0;34m,\u001b[0m \u001b[0msignature\u001b[0m\u001b[0;34m=\u001b[0m\u001b[0msignature\u001b[0m\u001b[0;34m,\u001b[0m \u001b[0mextobj\u001b[0m\u001b[0;34m=\u001b[0m\u001b[0mextobj\u001b[0m\u001b[0;34m)\u001b[0m\u001b[0;34m\u001b[0m\u001b[0;34m\u001b[0m\u001b[0m\n\u001b[0m\u001b[1;32m    546\u001b[0m     \u001b[0;32mreturn\u001b[0m \u001b[0mwrap\u001b[0m\u001b[0;34m(\u001b[0m\u001b[0mainv\u001b[0m\u001b[0;34m.\u001b[0m\u001b[0mastype\u001b[0m\u001b[0;34m(\u001b[0m\u001b[0mresult_t\u001b[0m\u001b[0;34m,\u001b[0m \u001b[0mcopy\u001b[0m\u001b[0;34m=\u001b[0m\u001b[0;32mFalse\u001b[0m\u001b[0;34m)\u001b[0m\u001b[0;34m)\u001b[0m\u001b[0;34m\u001b[0m\u001b[0;34m\u001b[0m\u001b[0m\n\u001b[1;32m    547\u001b[0m \u001b[0;34m\u001b[0m\u001b[0m\n",
      "\u001b[0;32m/usr/local/lib/python3.9/site-packages/numpy/linalg/linalg.py\u001b[0m in \u001b[0;36m_raise_linalgerror_singular\u001b[0;34m(err, flag)\u001b[0m\n\u001b[1;32m     86\u001b[0m \u001b[0;34m\u001b[0m\u001b[0m\n\u001b[1;32m     87\u001b[0m \u001b[0;32mdef\u001b[0m \u001b[0m_raise_linalgerror_singular\u001b[0m\u001b[0;34m(\u001b[0m\u001b[0merr\u001b[0m\u001b[0;34m,\u001b[0m \u001b[0mflag\u001b[0m\u001b[0;34m)\u001b[0m\u001b[0;34m:\u001b[0m\u001b[0;34m\u001b[0m\u001b[0;34m\u001b[0m\u001b[0m\n\u001b[0;32m---> 88\u001b[0;31m     \u001b[0;32mraise\u001b[0m \u001b[0mLinAlgError\u001b[0m\u001b[0;34m(\u001b[0m\u001b[0;34m\"Singular matrix\"\u001b[0m\u001b[0;34m)\u001b[0m\u001b[0;34m\u001b[0m\u001b[0;34m\u001b[0m\u001b[0m\n\u001b[0m\u001b[1;32m     89\u001b[0m \u001b[0;34m\u001b[0m\u001b[0m\n\u001b[1;32m     90\u001b[0m \u001b[0;32mdef\u001b[0m \u001b[0m_raise_linalgerror_nonposdef\u001b[0m\u001b[0;34m(\u001b[0m\u001b[0merr\u001b[0m\u001b[0;34m,\u001b[0m \u001b[0mflag\u001b[0m\u001b[0;34m)\u001b[0m\u001b[0;34m:\u001b[0m\u001b[0;34m\u001b[0m\u001b[0;34m\u001b[0m\u001b[0m\n",
      "\u001b[0;31mLinAlgError\u001b[0m: Singular matrix"
     ]
    }
   ],
   "source": [
    "print(solve(lalala['c'], lalala['x'], lalala['D'], lalala['A'], lalala['b'], lalala['Jb'], lalala['Jb_ast']))"
   ]
  }
 ],
 "metadata": {
  "interpreter": {
   "hash": "aee8b7b246df8f9039afb4144a1f6fd8d2ca17a180786b69acc140d282b71a49"
  },
  "kernelspec": {
   "display_name": "Python 3.9.5 64-bit",
   "language": "python",
   "name": "python3"
  },
  "language_info": {
   "codemirror_mode": {
    "name": "ipython",
    "version": 3
   },
   "file_extension": ".py",
   "mimetype": "text/x-python",
   "name": "python",
   "nbconvert_exporter": "python",
   "pygments_lexer": "ipython3",
   "version": "3.9.5"
  },
  "orig_nbformat": 4
 },
 "nbformat": 4,
 "nbformat_minor": 2
}
