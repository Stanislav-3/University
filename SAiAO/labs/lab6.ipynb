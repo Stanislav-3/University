{
 "cells": [
  {
   "cell_type": "code",
   "execution_count": 10,
   "metadata": {},
   "outputs": [],
   "source": [
    "import numpy as np"
   ]
  },
  {
   "cell_type": "markdown",
   "metadata": {},
   "source": [
    "# Поиска наибольшего паросечатния в графе <br>Алгоритм Куна"
   ]
  },
  {
   "cell_type": "code",
   "execution_count": 11,
   "metadata": {},
   "outputs": [],
   "source": [
    "adjacent_matrix = np.array([\n",
    "    [0, 0, 0, 1, 1, 0],\n",
    "    [0, 0, 0, 0, 1, 1],\n",
    "    [0, 0, 0, 0, 0, 1],\n",
    "    [1, 0, 0, 0, 0, 0],\n",
    "    [1, 1, 0, 0, 0, 0],\n",
    "    [0, 1, 1, 0, 0, 0]\n",
    "])\n",
    "\n",
    "adjacent_matrix = np.array([\n",
    "    [0., 1., 1., 0., 0.],\n",
    "    [1., 0., 0., 0., 0.],\n",
    "    [1., 0., 0., 1., 0.],\n",
    "    [0., 0., 1., 0., 1.],\n",
    "    [0., 0., 0., 1., 0.]\n",
    "])\n",
    "\n",
    "adjacent_matrix = np.array([\n",
    "        [0., 0., 0., 0., 0., 0., 1., 1., 0., 0.],\n",
    "        [0., 0., 0., 0., 0., 0., 0., 0., 0., 0.],\n",
    "        [0., 0., 0., 0., 0., 1., 0., 0., 1., 0.],\n",
    "        [0., 0., 0., 0., 0., 0., 0., 0., 0., 1.],\n",
    "        [0., 0., 0., 0., 0., 0., 0., 0., 0., 0.],\n",
    "        [0., 0., 1., 0., 0., 0., 0., 0., 0., 0.],\n",
    "        [1., 0., 0., 0., 0., 0., 0., 0., 0., 0.],\n",
    "        [1., 0., 0., 0., 0., 0., 0., 0., 0., 0.],\n",
    "        [0., 0., 1., 0., 0., 0., 0., 0., 0., 0.],\n",
    "        [0., 0., 0., 1., 0., 0., 0., 0., 0., 0.]\n",
    "       ])"
   ]
  },
  {
   "cell_type": "code",
   "execution_count": 12,
   "metadata": {},
   "outputs": [],
   "source": [
    "def is_symmetric(matrix):\n",
    "    return np.allclose(matrix, matrix.T)"
   ]
  },
  {
   "cell_type": "code",
   "execution_count": 13,
   "metadata": {},
   "outputs": [],
   "source": [
    "# Split vertexes into two parts while checking whether it could be done\n",
    "def split_graph(adjacent_matrix) -> tuple:\n",
    "    colors = np.zeros(len(adjacent_matrix))\n",
    "    visited = [False] * len(adjacent_matrix)\n",
    "\n",
    "    def dfs(adjacent_matrix, vertex, previous_color):\n",
    "        previous_color = 1 if previous_color == 0 else 0\n",
    "        \n",
    "        visited[vertex] = True\n",
    "        colors[vertex] = previous_color\n",
    "\n",
    "        adjacent_vertexes = np.nonzero(adjacent_matrix[vertex, :])[0]\n",
    "\n",
    "        for vertex in adjacent_vertexes:\n",
    "            if not visited[vertex]:\n",
    "                dfs(adjacent_matrix, vertex, previous_color)\n",
    "            elif colors[vertex] == previous_color:\n",
    "                raise ValueError('Given graph is not bipartite')\n",
    "\n",
    "    for vertex in range(len(adjacent_matrix)):\n",
    "        if not visited[vertex]:\n",
    "            dfs(adjacent_matrix, vertex, 0)\n",
    "\n",
    "    return np.nonzero(colors)[0], np.nonzero(colors == 0)[0]"
   ]
  },
  {
   "cell_type": "code",
   "execution_count": 14,
   "metadata": {},
   "outputs": [],
   "source": [
    "def in_M(M, vertex):\n",
    "    for edge in M:\n",
    "        if vertex in edge:\n",
    "            return True\n",
    "    \n",
    "    return False"
   ]
  },
  {
   "cell_type": "code",
   "execution_count": 15,
   "metadata": {},
   "outputs": [],
   "source": [
    "def kuhn_dfs(adjacent_matrix, vertex, target_to_source, visited, n):\n",
    "    if visited[vertex]:\n",
    "        return False\n",
    "    \n",
    "    visited[vertex] = True\n",
    "\n",
    "    adjacent_vertexes = np.nonzero(adjacent_matrix[vertex, :])[0]\n",
    "    \n",
    "    for vertex_to in adjacent_vertexes:\n",
    "        vertex_to -= n\n",
    "        \n",
    "        if target_to_source[vertex_to] == -1 or kuhn_dfs(adjacent_matrix, target_to_source[vertex_to], target_to_source, visited, n):\n",
    "            target_to_source[vertex_to] = vertex\n",
    "            return True\n",
    "    \n",
    "    return False"
   ]
  },
  {
   "cell_type": "code",
   "execution_count": 16,
   "metadata": {},
   "outputs": [],
   "source": [
    "def get_max_matching(adjacent_matrix, first_vertexes=None):\n",
    "    if not is_symmetric(adjacent_matrix):\n",
    "        raise ValueError('Adjacent matrix is not symmetric')\n",
    "    \n",
    "    if first_vertexes is None:\n",
    "        first_vertexes, _ = split_graph(adjacent_matrix)\n",
    "        n = len(first_vertexes)\n",
    "        k = len(adjacent_matrix) - n\n",
    "    else:\n",
    "        n  = k = int(len(adjacent_matrix) / 2)\n",
    "   \n",
    "    target_to_source = [-1] * n\n",
    "    \n",
    "    M = []\n",
    "    for vertex in first_vertexes:\n",
    "        visited = [False] * k\n",
    "\n",
    "        kuhn_dfs(adjacent_matrix, vertex, target_to_source, visited, n)\n",
    "\n",
    "    for j, i in enumerate(target_to_source):\n",
    "        if i != -1:\n",
    "            M.append((i, j + n))\n",
    "\n",
    "    return M"
   ]
  },
  {
   "cell_type": "code",
   "execution_count": 17,
   "metadata": {},
   "outputs": [
    {
     "data": {
      "text/plain": [
       "[(2, 5), (0, 6), (3, 9)]"
      ]
     },
     "execution_count": 17,
     "metadata": {},
     "output_type": "execute_result"
    }
   ],
   "source": [
    "get_max_matching(adjacent_matrix)"
   ]
  }
 ],
 "metadata": {
  "kernelspec": {
   "display_name": "Python 3.10.7 64-bit",
   "language": "python",
   "name": "python3"
  },
  "language_info": {
   "codemirror_mode": {
    "name": "ipython",
    "version": 3
   },
   "file_extension": ".py",
   "mimetype": "text/x-python",
   "name": "python",
   "nbconvert_exporter": "python",
   "pygments_lexer": "ipython3",
   "version": "3.10.7"
  },
  "orig_nbformat": 4,
  "vscode": {
   "interpreter": {
    "hash": "aee8b7b246df8f9039afb4144a1f6fd8d2ca17a180786b69acc140d282b71a49"
   }
  }
 },
 "nbformat": 4,
 "nbformat_minor": 2
}
