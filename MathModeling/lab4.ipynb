{
 "cells": [
  {
   "cell_type": "code",
   "execution_count": 1,
   "metadata": {},
   "outputs": [],
   "source": [
    "import scipy\n",
    "import threading\n",
    "import time\n",
    "\n",
    "import numpy as np"
   ]
  },
  {
   "cell_type": "markdown",
   "metadata": {},
   "source": [
    "# Одноканальная СМО с отказами"
   ]
  },
  {
   "cell_type": "markdown",
   "metadata": {},
   "source": [
    "Вход: простейший поток заявок с интенсивностью X.<br>\n",
    "Время обслуживания — показательное с параметром Y = 1 / to6c. \n",
    "\n",
    "Работающий канал может время от времени выходить из строя (отказывать). <br>\n",
    "Поток отказов канала — простейший с интенсивностью X.<br>\n",
    "Время ремонта — показательное с параметром R = 1 / tр . \n",
    "\n",
    "Восстановление (ремонт) вышедшего из строя канала начинается мгновенно после его отказа;<br>\n",
    "Заявка, которая обслуживалась в момент выхода канала из строя, покидает СМО необслуженной.<br>\n",
    "Найти финальные вероятности состояний СМО:<br>\n",
    "s0 — канал свободен;<br>\n",
    "s1 — канал занят, исправен;<br>\n",
    "s2 — канал ремонтируется<br>\n",
    "характеристики СМО: относительную и абсолютную пропускную способность системы<br>\n"
   ]
  },
  {
   "cell_type": "code",
   "execution_count": 20,
   "metadata": {},
   "outputs": [],
   "source": [
    "X = 1 / 2\n",
    "Y = 1 / 6\n",
    "R = 1 / 3"
   ]
  },
  {
   "cell_type": "code",
   "execution_count": 19,
   "metadata": {},
   "outputs": [
    {
     "data": {
      "text/plain": [
       "24.025186417354767"
      ]
     },
     "execution_count": 19,
     "metadata": {},
     "output_type": "execute_result"
    }
   ],
   "source": [
    "points = []\n",
    "for i in range(10**4):\n",
    "    t = scipy.stats.expon.rvs(scale=1/X)\n",
    "    points.append(t)\n",
    "\n",
    "sum(points) / len(points)"
   ]
  },
  {
   "cell_type": "code",
   "execution_count": null,
   "metadata": {},
   "outputs": [],
   "source": [
    "M_request_time = 1 / X\n",
    "M_processing_time = 1 / Y\n",
    "M_break_down_time = 1 / X\n",
    "M_repair_time = 1 / R"
   ]
  },
  {
   "cell_type": "code",
   "execution_count": 6,
   "metadata": {},
   "outputs": [
    {
     "data": {
      "text/plain": [
       "(None, None, None)"
      ]
     },
     "execution_count": 6,
     "metadata": {},
     "output_type": "execute_result"
    }
   ],
   "source": [
    "s0 = None\n",
    "s1 = None\n",
    "s2 = None\n",
    "s0, s1, s2"
   ]
  },
  {
   "cell_type": "code",
   "execution_count": 3,
   "metadata": {},
   "outputs": [],
   "source": [
    "q = Y / (X + Y)\n",
    "A = X * q"
   ]
  },
  {
   "cell_type": "code",
   "execution_count": 4,
   "metadata": {},
   "outputs": [
    {
     "data": {
      "text/plain": [
       "(0.25, 0.125)"
      ]
     },
     "execution_count": 4,
     "metadata": {},
     "output_type": "execute_result"
    }
   ],
   "source": [
    "q, A"
   ]
  },
  {
   "cell_type": "code",
   "execution_count": null,
   "metadata": {},
   "outputs": [],
   "source": [
    "class MyThread():\n",
    "    pass"
   ]
  },
  {
   "cell_type": "code",
   "execution_count": 5,
   "metadata": {},
   "outputs": [],
   "source": [
    "class Queueing_system():\n",
    "    def __init__(self, X, Y, R, random_state=42) -> None:\n",
    "        self.X = X\n",
    "        self.Y = Y\n",
    "        self.R = R\n",
    "        self.random_state = random_state\n",
    "\n",
    "        self.requests = 0\n",
    "        self.break_downs = 0\n",
    "        \n",
    "        self.finished = 0\n",
    "        self.rejected = 0\n",
    "\n",
    "        # self.current_worker_thread = None\n",
    "        self.request_terminated = False\n",
    "\n",
    "        self.channel_is_busy_event = threading.Event()\n",
    "        self.new_request_event = threading.Event()\n",
    "        self.request_finished_event = threading.Event()\n",
    "        self.stream_broke_event = threading.Event()\n",
    "\n",
    "        self.LOOP_IS_RUNNING = False\n",
    "        # self.threads = []\n",
    "    \n",
    "    def start(self):\n",
    "        self.LOOP_IS_RUNNING = True\n",
    "\n",
    "        thread = threading.Thread(target=self._loop, args=(), daemon=True)\n",
    "        # self.threads.append(thread)\n",
    "        thread.start()\n",
    "\n",
    "        # TODO: ONLY ON FIRST START\n",
    "        self.run_simplest_stream(self.X, self.new_request_event)\n",
    "        self.run_simplest_stream(self.X, self.stream_broke_event, condition=self.channel_is_busy_event)\n",
    "    \n",
    "    def stop(self):\n",
    "        self.LOOP_IS_RUNNING = False\n",
    "        \n",
    "        if self.channel_is_busy_event.is_set():\n",
    "            self.rejected += 1\n",
    "            self.channel_is_busy_event.clear()\n",
    "    \n",
    "    def run_simplest_stream(self, intensity, event, condition=None):\n",
    "        def inner(intensity: float, event: threading.Event, condition, random_state):\n",
    "            if condition is not None and not condition.is_set():\n",
    "                print('Channel is not busy')\n",
    "                return\n",
    "            if condition is not None and condition.is_set():\n",
    "                print('Channel is busy. Starting to evaluate break down time')\n",
    "            \n",
    "            while True:\n",
    "                t = scipy.stats.expon.rvs(scale=1/intensity)\n",
    "                time.sleep(t)\n",
    "                \n",
    "                event.set()\n",
    "                if condition is not None:\n",
    "                    # TODO: problem there, stop break down stream when repairing\n",
    "                    print('event set?', event.is_set())\n",
    "                    \n",
    "\n",
    "\n",
    "        thread = threading.Thread(target=inner, args=(intensity, event, condition, self.random_state), daemon=True)\n",
    "        # self.threads.append(thread)\n",
    "        thread.start()\n",
    "\n",
    "        return thread\n",
    "    \n",
    "    def run_event(self, intensity, event, reversed=False):\n",
    "        def inner(intensity: float, event: threading.Event, random_state):\n",
    "            t = scipy.stats.expon.rvs(scale=1/intensity)\n",
    "            time.sleep(t)\n",
    "            \n",
    "            if reversed:\n",
    "                event.clear()\n",
    "            else:\n",
    "                event.set()\n",
    "\n",
    "        thread = threading.Thread(target=inner, args=(intensity, event, self.random_state), daemon=True)\n",
    "        # self.threads.append(thread)\n",
    "        thread.start()\n",
    "\n",
    "        return thread\n",
    "    \n",
    "    def _loop(self):\n",
    "        while self.LOOP_IS_RUNNING:\n",
    "\n",
    "            # New request\n",
    "            if self.new_request_event.is_set():\n",
    "\n",
    "                if not self.channel_is_busy_event.is_set() and not self.stream_broke_event.is_set():\n",
    "                    self.channel_is_busy_event.set()\n",
    "                    self.run_event(self.Y, self.request_finished_event)\n",
    "                else:\n",
    "                    self.rejected += 1\n",
    "\n",
    "                self.new_request_event.clear()\n",
    "                self.requests += 1\n",
    "\n",
    "            # Stream brakes\n",
    "            if self.stream_broke_event.is_set():\n",
    "                print('Broke')\n",
    "            \n",
    "            # Request finished\n",
    "            if self.request_finished_event.is_set():\n",
    "                pass\n",
    "    "
   ]
  },
  {
   "cell_type": "code",
   "execution_count": 16,
   "metadata": {},
   "outputs": [
    {
     "name": "stdout",
     "output_type": "stream",
     "text": [
      "event set? True\n",
      "event set? True\n",
      "Channel is not busy\n",
      "event set? True\n",
      "event set? True\n",
      "event set? True\n",
      "event set? True\n",
      "event set? True\n",
      "event set? True\n",
      "event set? True\n",
      "event set? True\n",
      "event set? True\n",
      "event set? True\n",
      "event set? True\n",
      "event set? True\n",
      "event set? True\n",
      "event set? True\n",
      "event set? True\n",
      "event set? True\n",
      "event set? True\n",
      "event set? True\n",
      "event set? True\n",
      "event set? True\n",
      "event set? True\n",
      "event set? True\n",
      "event set? True\n",
      "event set? True\n",
      "event set? True\n",
      "event set? True\n",
      "event set? True\n",
      "event set? True\n",
      "event set? True\n",
      "event set? True\n",
      "event set? True\n",
      "event set? True\n",
      "event set? True\n",
      "event set? True\n",
      "event set? True\n",
      "event set? True\n",
      "event set? True\n",
      "event set? True\n",
      "event set? True\n",
      "event set? True\n",
      "event set? True\n",
      "event set? True\n",
      "event set? True\n",
      "event set? True\n",
      "event set? True\n",
      "event set? True\n",
      "event set? True\n",
      "event set? True\n",
      "event set? True\n",
      "Requests 61\n",
      "Break downs 0\n",
      "Finished 0\n",
      "Rejected 61\n"
     ]
    }
   ],
   "source": [
    "X = 100\n",
    "Y = 0.01\n",
    "R = 1 / 3\n",
    "\n",
    "system = Queueing_system(X, Y, R, random_state=42)\n",
    "system.start()\n",
    "\n",
    "time.sleep(1)\n",
    "system.stop()\n",
    "\n",
    "print('Requests', system.requests)\n",
    "print('Break downs', system.break_downs)\n",
    "print('Finished', system.finished)\n",
    "print('Rejected', system.rejected)"
   ]
  },
  {
   "cell_type": "code",
   "execution_count": 17,
   "metadata": {},
   "outputs": [
    {
     "name": "stdout",
     "output_type": "stream",
     "text": [
      "event set? True\n",
      "event set? True\n",
      "event set? True\n"
     ]
    },
    {
     "ename": "NameError",
     "evalue": "name 'run_simplest_stream' is not defined",
     "output_type": "error",
     "traceback": [
      "\u001b[0;31m---------------------------------------------------------------------------\u001b[0m",
      "\u001b[0;31mNameError\u001b[0m                                 Traceback (most recent call last)",
      "\u001b[0;32m/var/folders/8b/pxxxz31x0jz3q6g0qyhq87cw0000gn/T/ipykernel_10721/1408293159.py\u001b[0m in \u001b[0;36m<module>\u001b[0;34m\u001b[0m\n\u001b[1;32m      2\u001b[0m \u001b[0mstream_broke_event\u001b[0m \u001b[0;34m=\u001b[0m \u001b[0mthreading\u001b[0m\u001b[0;34m.\u001b[0m\u001b[0mEvent\u001b[0m\u001b[0;34m(\u001b[0m\u001b[0;34m)\u001b[0m\u001b[0;34m\u001b[0m\u001b[0;34m\u001b[0m\u001b[0m\n\u001b[1;32m      3\u001b[0m \u001b[0;34m\u001b[0m\u001b[0m\n\u001b[0;32m----> 4\u001b[0;31m \u001b[0mrun_simplest_stream\u001b[0m\u001b[0;34m(\u001b[0m\u001b[0;36m100\u001b[0m\u001b[0;34m,\u001b[0m \u001b[0mstream_broke_event\u001b[0m\u001b[0;34m,\u001b[0m \u001b[0mcondition\u001b[0m\u001b[0;34m=\u001b[0m\u001b[0mchannel_is_busy_event\u001b[0m\u001b[0;34m)\u001b[0m\u001b[0;34m\u001b[0m\u001b[0;34m\u001b[0m\u001b[0m\n\u001b[0m",
      "\u001b[0;31mNameError\u001b[0m: name 'run_simplest_stream' is not defined"
     ]
    }
   ],
   "source": [
    "\n",
    "\n",
    "channel_is_busy_event = threading.Event()\n",
    "stream_broke_event = threading.Event()\n",
    "\n",
    "run_simplest_stream(100, stream_broke_event, condition=channel_is_busy_event)"
   ]
  }
 ],
 "metadata": {
  "kernelspec": {
   "display_name": "Python 3.9.13 ('base')",
   "language": "python",
   "name": "python3"
  },
  "language_info": {
   "codemirror_mode": {
    "name": "ipython",
    "version": 3
   },
   "file_extension": ".py",
   "mimetype": "text/x-python",
   "name": "python",
   "nbconvert_exporter": "python",
   "pygments_lexer": "ipython3",
   "version": "3.9.13"
  },
  "orig_nbformat": 4,
  "vscode": {
   "interpreter": {
    "hash": "3067ead486e059ec00ffe7555bdb889e6e264a24dc711bf108106cc7baee8d5d"
   }
  }
 },
 "nbformat": 4,
 "nbformat_minor": 2
}
