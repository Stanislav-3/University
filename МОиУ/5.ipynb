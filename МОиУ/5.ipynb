{
 "cells": [
  {
   "cell_type": "code",
   "execution_count": 1,
   "metadata": {},
   "outputs": [],
   "source": [
    "import numpy as np\n",
    "import copy\n",
    "from scipy.optimize import linprog\n",
    "from collections import Counter"
   ]
  },
  {
   "cell_type": "code",
   "execution_count": 2,
   "metadata": {},
   "outputs": [],
   "source": [
    "def NW_corner_method(a: np.array, b: np.array):\n",
    "    a = copy.deepcopy(a)\n",
    "    b = copy.deepcopy(b)\n",
    "\n",
    "    m, n = len(a), len(b)\n",
    "    X = np.zeros((m, n))\n",
    "    B = []\n",
    "    i, j = 0, 0\n",
    "    \n",
    "    while True:\n",
    "        B.append((i, j))\n",
    "\n",
    "        if a[i] > 0 and b[j] > 0:\n",
    "            if a[i] > b[j]:\n",
    "                a[i] -= b[j]\n",
    "                X[i][j] = b[j]\n",
    "                b[j] = 0\n",
    "                j += 1\n",
    "            else:\n",
    "                b[i] -= a[i]\n",
    "                X[i][j] = a[i]\n",
    "                a[i] = 0\n",
    "                i += 1\n",
    "        elif a[i] == 0 and i != m - 1:\n",
    "            i += 1\n",
    "        else:\n",
    "            j += 1\n",
    "        \n",
    "        if i == m or j == n:\n",
    "            break\n",
    "    \n",
    "    assert len(B) == m + n - 1\n",
    "    \n",
    "    return X, B\n",
    "    "
   ]
  },
  {
   "cell_type": "code",
   "execution_count": 3,
   "metadata": {},
   "outputs": [],
   "source": [
    "def solve(a: np.array, b: np.array, C: np.array):\n",
    "    assert (a >= 0).all()\n",
    "    assert (b >= 0).all()\n",
    "    assert (C >= 0).all()\n",
    "\n",
    "    diff = np.sum(a) - np.sum(b)\n",
    "    if diff > 0:\n",
    "        b = np.append(b, diff)\n",
    "        C = np.column_stack([C, np.zeros(len(a))])\n",
    "    elif diff < 0:\n",
    "        a = np.append(a, -diff)\n",
    "        C = np.append(C, np.zeros(len(b)))\n",
    "    \n",
    "    m, n = len(a), len(b)\n",
    "\n",
    "    X, B = NW_corner_method(a, b)\n",
    "\n",
    "    while True:\n",
    "        # 1, 2:\n",
    "        A = np.zeros((m+n, m+n))\n",
    "        b = np.zeros(m+n)\n",
    "        for line, (i, j) in enumerate(B):\n",
    "            A[line][i] = 1\n",
    "            A[line][m+j] = 1\n",
    "            b[line] = C[i][j]\n",
    "        A[-1][0] = 1\n",
    "\n",
    "        #3\n",
    "        u_v = np.linalg.solve(A, b)\n",
    "        u, v = u_v[:m], u_v[m:]\n",
    "\n",
    "        # 4, 5:\n",
    "        nB = []\n",
    "        for i in range(m):\n",
    "            for j in range(n):\n",
    "                if (i, j) not in B:\n",
    "                    nB.append((i, j))\n",
    "\n",
    "        optimal_condition_met = True\n",
    "        for (i, j) in nB:\n",
    "            if u[i] + v[j] > C[i][j]:\n",
    "                optimal_condition_met = False\n",
    "                break\n",
    "        \n",
    "        if optimal_condition_met:  # 4\n",
    "            return X\n",
    "        \n",
    "        B.append((i, j))  # 5\n",
    "\n",
    "        # 6:\n",
    "        B_copy = B.copy()\n",
    "        while True:\n",
    "            i_list, j_list = [*zip(*B_copy)]\n",
    "            i_counter = Counter(i_list)\n",
    "            j_counter = Counter(j_list)\n",
    "            i_to_rm = [i for i in i_counter if i_counter[i] == 1 or i_counter[i] == 0]\n",
    "            j_to_rm = [j for j in j_counter if j_counter[j] == 1 or j_counter[j] == 0]\n",
    "            if not i_to_rm and not j_to_rm:\n",
    "                break\n",
    "            B_copy = [(i, j) for (i, j) in B_copy if i not in i_to_rm and j not in j_to_rm]\n",
    "\n",
    "        # 7:\n",
    "        plus_pairs = []\n",
    "        minus_pairs = []\n",
    "        plus_pairs.append(B_copy.pop())  \n",
    "\n",
    "        while B_copy:\n",
    "            if len(plus_pairs) - len(minus_pairs):\n",
    "                for index, (i, j) in enumerate(B_copy):\n",
    "                    if plus_pairs[-1][0] == i or plus_pairs[-1][1] == j:\n",
    "                        minus_pairs.append(B_copy.pop(index))\n",
    "                        break\n",
    "            else:\n",
    "                for index, (i, j) in enumerate(B_copy):\n",
    "                    if minus_pairs[-1][0] == i or minus_pairs[-1][1] == j:\n",
    "                        plus_pairs.append(B_copy.pop(index))\n",
    "                        break\n",
    "\n",
    "        theta = min([X[i][j] for (i, j) in minus_pairs])\n",
    "        for (i, j) in plus_pairs:\n",
    "            X[i][j] += theta\n",
    "        for (i, j) in minus_pairs:\n",
    "            X[i][j] -= theta\n",
    "\n",
    "        # 8:\n",
    "        for (i, j) in minus_pairs:\n",
    "            if X[i][j] == 0:\n",
    "                B.remove((i, j))\n",
    "                break\n",
    "\n"
   ]
  },
  {
   "cell_type": "code",
   "execution_count": 4,
   "metadata": {},
   "outputs": [],
   "source": [
    "tests = [\n",
    "    {\n",
    "        'a': np.array([100, 300, 300]),\n",
    "        'b': np.array([300, 200, 200]),\n",
    "        'C': np.array([[8, 4, 1],\n",
    "                       [8, 4, 3],\n",
    "                       [9, 7, 5]])\n",
    "    },\n",
    "    {\n",
    "        'a': np.array([0, 0, 0]),\n",
    "        'b': np.array([0, 0, 0]),\n",
    "        'C': np.array([[0, 0, 0],\n",
    "                       [0, 0, 0],\n",
    "                       [0, 0, 0]])\n",
    "    },\n",
    "]"
   ]
  },
  {
   "cell_type": "code",
   "execution_count": 5,
   "metadata": {},
   "outputs": [
    {
     "name": "stdout",
     "output_type": "stream",
     "text": [
      "[[  0.   0. 100.]\n",
      " [  0. 200. 100.]\n",
      " [300.   0.   0.]]\n",
      "[[0. 0. 0.]\n",
      " [0. 0. 0.]\n",
      " [0. 0. 0.]]\n"
     ]
    }
   ],
   "source": [
    "for test in tests:\n",
    "    # result1 = linprog(-test['C'].flatten(), A_ub=np.zeros((len(test['a']), len(-test['C'].flatten()))), b_ub=test['a'], A_eq=np.zeros((len(test['b']), len(-test['C'].flatten()))),  b_eq=test['b'])\n",
    "    result2 = solve(test['a'], test['b'], test['C'])\n",
    "    print(result2)\n",
    "    \n",
    "    \n",
    "    # if type(result2) is str:\n",
    "    #     assert result1.message == 'The algorithm terminated successfully and determined that the problem is infeasible.'\n",
    "    # else:\n",
    "    #     assert np.allclose(result1.x, result2)"
   ]
  },
  {
   "cell_type": "code",
   "execution_count": 6,
   "metadata": {},
   "outputs": [
    {
     "data": {
      "text/plain": [
       "[(1, 2, 3, 6), (1, 2, 3, 7)]"
      ]
     },
     "execution_count": 6,
     "metadata": {},
     "output_type": "execute_result"
    }
   ],
   "source": [
    "t = [(1, 1), (2, 2), (3, 3), (6, 7)]\n",
    "[*zip(*t)]"
   ]
  }
 ],
 "metadata": {
  "interpreter": {
   "hash": "aee8b7b246df8f9039afb4144a1f6fd8d2ca17a180786b69acc140d282b71a49"
  },
  "kernelspec": {
   "display_name": "Python 3.9.5 64-bit",
   "language": "python",
   "name": "python3"
  },
  "language_info": {
   "codemirror_mode": {
    "name": "ipython",
    "version": 3
   },
   "file_extension": ".py",
   "mimetype": "text/x-python",
   "name": "python",
   "nbconvert_exporter": "python",
   "pygments_lexer": "ipython3",
   "version": "3.9.5"
  },
  "orig_nbformat": 4
 },
 "nbformat": 4,
 "nbformat_minor": 2
}
