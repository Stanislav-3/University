{
 "cells": [
  {
   "cell_type": "code",
   "execution_count": 1,
   "metadata": {},
   "outputs": [],
   "source": [
    "import numpy as np"
   ]
  },
  {
   "cell_type": "markdown",
   "metadata": {},
   "source": [
    "# Требуется вложить Q едениц ресурса в течение n лет так, чтобы суммарная прибыль от деятельности преприятия была max."
   ]
  },
  {
   "cell_type": "code",
   "execution_count": 2,
   "metadata": {},
   "outputs": [],
   "source": [
    "n = 3\n",
    "Q = 3\n",
    "\n",
    "A = np.array([\n",
    "    [2, 3, 3, 5],\n",
    "    [1, 0, 2, 1],\n",
    "    [0, 0, 1, 1]\n",
    "])"
   ]
  },
  {
   "cell_type": "code",
   "execution_count": 3,
   "metadata": {},
   "outputs": [],
   "source": [
    "def solve(A):\n",
    "    n, Q = A.shape\n",
    "    Q -= 1\n",
    "\n",
    "    x = np.zeros_like(A)\n",
    "    opt = np.zeros_like(A)\n",
    "\n",
    "    opt[0] = A[0]\n",
    "    x[0] = [i for i in range(Q + 1)]\n",
    "\n",
    "    for i in range(1, n):\n",
    "        for j in range(Q + 1):\n",
    "            values = A[i, :j + 1] + opt[i - 1, :j + 1][::-1]\n",
    "            max_idx = np.argmax(values)\n",
    "\n",
    "            opt[i, j], x[i, j] = values[max_idx], max_idx\n",
    "    \n",
    "    max_j = np.argmax(opt[-1])\n",
    "\n",
    "    return {\n",
    "        'max': opt[-1, max_j],\n",
    "        'res_mas': x[:, max_j]\n",
    "    }"
   ]
  },
  {
   "cell_type": "code",
   "execution_count": 4,
   "metadata": {},
   "outputs": [
    {
     "data": {
      "text/plain": [
       "{'max': 6, 'res_mas': array([3, 0, 0])}"
      ]
     },
     "execution_count": 4,
     "metadata": {},
     "output_type": "execute_result"
    }
   ],
   "source": [
    "solve(A)"
   ]
  }
 ],
 "metadata": {
  "kernelspec": {
   "display_name": "Python 3.10.7 64-bit",
   "language": "python",
   "name": "python3"
  },
  "language_info": {
   "codemirror_mode": {
    "name": "ipython",
    "version": 3
   },
   "file_extension": ".py",
   "mimetype": "text/x-python",
   "name": "python",
   "nbconvert_exporter": "python",
   "pygments_lexer": "ipython3",
   "version": "3.10.7"
  },
  "orig_nbformat": 4,
  "vscode": {
   "interpreter": {
    "hash": "aee8b7b246df8f9039afb4144a1f6fd8d2ca17a180786b69acc140d282b71a49"
   }
  }
 },
 "nbformat": 4,
 "nbformat_minor": 2
}
