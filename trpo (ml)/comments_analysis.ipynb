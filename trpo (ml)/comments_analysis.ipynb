{
 "cells": [
  {
   "cell_type": "code",
   "execution_count": 2,
   "metadata": {},
   "outputs": [
    {
     "name": "stderr",
     "output_type": "stream",
     "text": [
      "/usr/local/lib/python3.10/site-packages/tqdm/auto.py:22: TqdmWarning: IProgress not found. Please update jupyter and ipywidgets. See https://ipywidgets.readthedocs.io/en/stable/user_install.html\n",
      "  from .autonotebook import tqdm as notebook_tqdm\n"
     ]
    }
   ],
   "source": [
    "import numpy as np\n",
    "import pandas as pd\n",
    "from tqdm import tqdm\n",
    "from transformers import AutoTokenizer, AutoModelForSequenceClassification\n",
    "from scipy.special import softmax\n",
    "from rake_nltk import Rake"
   ]
  },
  {
   "attachments": {},
   "cell_type": "markdown",
   "metadata": {},
   "source": [
    "## EDA"
   ]
  },
  {
   "cell_type": "code",
   "execution_count": 3,
   "metadata": {},
   "outputs": [
    {
     "data": {
      "text/plain": [
       "name      125767\n",
       "rating    125767\n",
       "review    125766\n",
       "dtype: int64"
      ]
     },
     "execution_count": 3,
     "metadata": {},
     "output_type": "execute_result"
    }
   ],
   "source": [
    "comments = pd.read_csv('data/RatingsComments.csv')\n",
    "comments.count()"
   ]
  },
  {
   "cell_type": "code",
   "execution_count": 4,
   "metadata": {},
   "outputs": [],
   "source": [
    "new_c = comments.drop_duplicates(subset=['review'])\n",
    "new_c.to_csv(f'data/RatingsComments.csv', index=False)"
   ]
  },
  {
   "cell_type": "code",
   "execution_count": 5,
   "metadata": {},
   "outputs": [
    {
     "data": {
      "text/plain": [
       "name      125767\n",
       "rating    125767\n",
       "review    125766\n",
       "dtype: int64"
      ]
     },
     "execution_count": 5,
     "metadata": {},
     "output_type": "execute_result"
    }
   ],
   "source": [
    "new_c.count()"
   ]
  },
  {
   "cell_type": "code",
   "execution_count": 6,
   "metadata": {},
   "outputs": [
    {
     "data": {
      "text/html": [
       "<div>\n",
       "<style scoped>\n",
       "    .dataframe tbody tr th:only-of-type {\n",
       "        vertical-align: middle;\n",
       "    }\n",
       "\n",
       "    .dataframe tbody tr th {\n",
       "        vertical-align: top;\n",
       "    }\n",
       "\n",
       "    .dataframe thead th {\n",
       "        text-align: right;\n",
       "    }\n",
       "</style>\n",
       "<table border=\"1\" class=\"dataframe\">\n",
       "  <thead>\n",
       "    <tr style=\"text-align: right;\">\n",
       "      <th></th>\n",
       "      <th>name</th>\n",
       "      <th>rating</th>\n",
       "      <th>review</th>\n",
       "    </tr>\n",
       "  </thead>\n",
       "  <tbody>\n",
       "    <tr>\n",
       "      <th>0</th>\n",
       "      <td>Jalsa</td>\n",
       "      <td>4.0</td>\n",
       "      <td>A beautiful place to dine inThe interiors take...</td>\n",
       "    </tr>\n",
       "    <tr>\n",
       "      <th>1</th>\n",
       "      <td>Jalsa</td>\n",
       "      <td>4.0</td>\n",
       "      <td>I was here for dinner with my family on a week...</td>\n",
       "    </tr>\n",
       "    <tr>\n",
       "      <th>2</th>\n",
       "      <td>Jalsa</td>\n",
       "      <td>2.0</td>\n",
       "      <td>Its a restaurant near to Banashankari BDA Me a...</td>\n",
       "    </tr>\n",
       "    <tr>\n",
       "      <th>3</th>\n",
       "      <td>Jalsa</td>\n",
       "      <td>4.0</td>\n",
       "      <td>We went here on a weekend and one of us had th...</td>\n",
       "    </tr>\n",
       "    <tr>\n",
       "      <th>4</th>\n",
       "      <td>Jalsa</td>\n",
       "      <td>5.0</td>\n",
       "      <td>The best thing about the place is its ambiance...</td>\n",
       "    </tr>\n",
       "  </tbody>\n",
       "</table>\n",
       "</div>"
      ],
      "text/plain": [
       "    name  rating                                             review\n",
       "0  Jalsa     4.0  A beautiful place to dine inThe interiors take...\n",
       "1  Jalsa     4.0  I was here for dinner with my family on a week...\n",
       "2  Jalsa     2.0  Its a restaurant near to Banashankari BDA Me a...\n",
       "3  Jalsa     4.0  We went here on a weekend and one of us had th...\n",
       "4  Jalsa     5.0  The best thing about the place is its ambiance..."
      ]
     },
     "execution_count": 6,
     "metadata": {},
     "output_type": "execute_result"
    }
   ],
   "source": [
    "comments.head()"
   ]
  },
  {
   "cell_type": "code",
   "execution_count": 7,
   "metadata": {},
   "outputs": [],
   "source": [
    "jalsa = comments[comments.name == 'Jalsa']\n",
    "jalsa_comments = jalsa.review.values"
   ]
  },
  {
   "attachments": {},
   "cell_type": "markdown",
   "metadata": {},
   "source": [
    "## Sentiment analysis"
   ]
  },
  {
   "cell_type": "code",
   "execution_count": 8,
   "metadata": {},
   "outputs": [],
   "source": [
    "MODEL = f'cardiffnlp/twitter-roberta-base-sentiment'\n",
    "\n",
    "tokenizer = AutoTokenizer.from_pretrained(MODEL)\n",
    "model = AutoModelForSequenceClassification.from_pretrained(MODEL)"
   ]
  },
  {
   "cell_type": "code",
   "execution_count": 9,
   "metadata": {},
   "outputs": [],
   "source": [
    "def polarity_scores_roberta(comment):\n",
    "    encoded_text = tokenizer(comment, return_tensors='pt')\n",
    "    output = model(**encoded_text)\n",
    "    scores = output[0][0].detach().numpy()\n",
    "    scores = softmax(scores)\n",
    "    scores_dict = {\n",
    "        'roberta_neg' : scores[0],\n",
    "        'roberta_neu' : scores[1],\n",
    "        'roberta_pos' : scores[2]\n",
    "    }\n",
    "    return scores_dict"
   ]
  },
  {
   "cell_type": "code",
   "execution_count": 10,
   "metadata": {},
   "outputs": [
    {
     "name": "stderr",
     "output_type": "stream",
     "text": [
      "100%|██████████| 45/45 [00:04<00:00,  9.59it/s]\n"
     ]
    }
   ],
   "source": [
    "res = {}\n",
    "for i, comment in enumerate(tqdm(jalsa_comments, total=len(jalsa_comments))):\n",
    "    try:\n",
    "        roberta_result = polarity_scores_roberta(comment)\n",
    "        res[i] = roberta_result\n",
    "    except RuntimeError:\n",
    "        print(f'Broke for id {i}')"
   ]
  },
  {
   "cell_type": "code",
   "execution_count": 11,
   "metadata": {},
   "outputs": [
    {
     "data": {
      "text/html": [
       "<div>\n",
       "<style scoped>\n",
       "    .dataframe tbody tr th:only-of-type {\n",
       "        vertical-align: middle;\n",
       "    }\n",
       "\n",
       "    .dataframe tbody tr th {\n",
       "        vertical-align: top;\n",
       "    }\n",
       "\n",
       "    .dataframe thead th {\n",
       "        text-align: right;\n",
       "    }\n",
       "</style>\n",
       "<table border=\"1\" class=\"dataframe\">\n",
       "  <thead>\n",
       "    <tr style=\"text-align: right;\">\n",
       "      <th></th>\n",
       "      <th>roberta_neg</th>\n",
       "      <th>roberta_neu</th>\n",
       "      <th>roberta_pos</th>\n",
       "    </tr>\n",
       "  </thead>\n",
       "  <tbody>\n",
       "    <tr>\n",
       "      <th>0</th>\n",
       "      <td>0.021544</td>\n",
       "      <td>0.071347</td>\n",
       "      <td>0.907109</td>\n",
       "    </tr>\n",
       "    <tr>\n",
       "      <th>1</th>\n",
       "      <td>0.001573</td>\n",
       "      <td>0.021282</td>\n",
       "      <td>0.977145</td>\n",
       "    </tr>\n",
       "    <tr>\n",
       "      <th>2</th>\n",
       "      <td>0.546480</td>\n",
       "      <td>0.361986</td>\n",
       "      <td>0.091534</td>\n",
       "    </tr>\n",
       "    <tr>\n",
       "      <th>3</th>\n",
       "      <td>0.001080</td>\n",
       "      <td>0.011017</td>\n",
       "      <td>0.987903</td>\n",
       "    </tr>\n",
       "    <tr>\n",
       "      <th>4</th>\n",
       "      <td>0.002381</td>\n",
       "      <td>0.018512</td>\n",
       "      <td>0.979107</td>\n",
       "    </tr>\n",
       "    <tr>\n",
       "      <th>5</th>\n",
       "      <td>0.003821</td>\n",
       "      <td>0.030121</td>\n",
       "      <td>0.966058</td>\n",
       "    </tr>\n",
       "    <tr>\n",
       "      <th>6</th>\n",
       "      <td>0.001180</td>\n",
       "      <td>0.019388</td>\n",
       "      <td>0.979432</td>\n",
       "    </tr>\n",
       "    <tr>\n",
       "      <th>7</th>\n",
       "      <td>0.066148</td>\n",
       "      <td>0.319120</td>\n",
       "      <td>0.614731</td>\n",
       "    </tr>\n",
       "    <tr>\n",
       "      <th>8</th>\n",
       "      <td>0.001463</td>\n",
       "      <td>0.013353</td>\n",
       "      <td>0.985184</td>\n",
       "    </tr>\n",
       "    <tr>\n",
       "      <th>9</th>\n",
       "      <td>0.024020</td>\n",
       "      <td>0.130974</td>\n",
       "      <td>0.845006</td>\n",
       "    </tr>\n",
       "    <tr>\n",
       "      <th>10</th>\n",
       "      <td>0.002654</td>\n",
       "      <td>0.030588</td>\n",
       "      <td>0.966758</td>\n",
       "    </tr>\n",
       "    <tr>\n",
       "      <th>11</th>\n",
       "      <td>0.001809</td>\n",
       "      <td>0.025524</td>\n",
       "      <td>0.972667</td>\n",
       "    </tr>\n",
       "    <tr>\n",
       "      <th>12</th>\n",
       "      <td>0.047098</td>\n",
       "      <td>0.135247</td>\n",
       "      <td>0.817655</td>\n",
       "    </tr>\n",
       "    <tr>\n",
       "      <th>13</th>\n",
       "      <td>0.003013</td>\n",
       "      <td>0.032165</td>\n",
       "      <td>0.964823</td>\n",
       "    </tr>\n",
       "    <tr>\n",
       "      <th>14</th>\n",
       "      <td>0.001270</td>\n",
       "      <td>0.016438</td>\n",
       "      <td>0.982292</td>\n",
       "    </tr>\n",
       "    <tr>\n",
       "      <th>15</th>\n",
       "      <td>0.001701</td>\n",
       "      <td>0.014223</td>\n",
       "      <td>0.984075</td>\n",
       "    </tr>\n",
       "    <tr>\n",
       "      <th>16</th>\n",
       "      <td>0.503622</td>\n",
       "      <td>0.375432</td>\n",
       "      <td>0.120946</td>\n",
       "    </tr>\n",
       "    <tr>\n",
       "      <th>17</th>\n",
       "      <td>0.002783</td>\n",
       "      <td>0.019253</td>\n",
       "      <td>0.977964</td>\n",
       "    </tr>\n",
       "    <tr>\n",
       "      <th>18</th>\n",
       "      <td>0.001817</td>\n",
       "      <td>0.021295</td>\n",
       "      <td>0.976888</td>\n",
       "    </tr>\n",
       "    <tr>\n",
       "      <th>19</th>\n",
       "      <td>0.001602</td>\n",
       "      <td>0.014444</td>\n",
       "      <td>0.983955</td>\n",
       "    </tr>\n",
       "    <tr>\n",
       "      <th>20</th>\n",
       "      <td>0.437969</td>\n",
       "      <td>0.400851</td>\n",
       "      <td>0.161179</td>\n",
       "    </tr>\n",
       "    <tr>\n",
       "      <th>21</th>\n",
       "      <td>0.012563</td>\n",
       "      <td>0.071185</td>\n",
       "      <td>0.916252</td>\n",
       "    </tr>\n",
       "    <tr>\n",
       "      <th>22</th>\n",
       "      <td>0.005819</td>\n",
       "      <td>0.039378</td>\n",
       "      <td>0.954802</td>\n",
       "    </tr>\n",
       "    <tr>\n",
       "      <th>23</th>\n",
       "      <td>0.044196</td>\n",
       "      <td>0.207040</td>\n",
       "      <td>0.748764</td>\n",
       "    </tr>\n",
       "    <tr>\n",
       "      <th>24</th>\n",
       "      <td>0.015833</td>\n",
       "      <td>0.213411</td>\n",
       "      <td>0.770757</td>\n",
       "    </tr>\n",
       "    <tr>\n",
       "      <th>25</th>\n",
       "      <td>0.005306</td>\n",
       "      <td>0.060725</td>\n",
       "      <td>0.933969</td>\n",
       "    </tr>\n",
       "    <tr>\n",
       "      <th>26</th>\n",
       "      <td>0.011937</td>\n",
       "      <td>0.072618</td>\n",
       "      <td>0.915445</td>\n",
       "    </tr>\n",
       "    <tr>\n",
       "      <th>27</th>\n",
       "      <td>0.001505</td>\n",
       "      <td>0.027820</td>\n",
       "      <td>0.970675</td>\n",
       "    </tr>\n",
       "    <tr>\n",
       "      <th>28</th>\n",
       "      <td>0.001798</td>\n",
       "      <td>0.012388</td>\n",
       "      <td>0.985815</td>\n",
       "    </tr>\n",
       "    <tr>\n",
       "      <th>29</th>\n",
       "      <td>0.001991</td>\n",
       "      <td>0.073928</td>\n",
       "      <td>0.924082</td>\n",
       "    </tr>\n",
       "    <tr>\n",
       "      <th>30</th>\n",
       "      <td>0.008076</td>\n",
       "      <td>0.035459</td>\n",
       "      <td>0.956465</td>\n",
       "    </tr>\n",
       "    <tr>\n",
       "      <th>31</th>\n",
       "      <td>0.001276</td>\n",
       "      <td>0.024390</td>\n",
       "      <td>0.974334</td>\n",
       "    </tr>\n",
       "    <tr>\n",
       "      <th>32</th>\n",
       "      <td>0.001475</td>\n",
       "      <td>0.017440</td>\n",
       "      <td>0.981084</td>\n",
       "    </tr>\n",
       "    <tr>\n",
       "      <th>33</th>\n",
       "      <td>0.036429</td>\n",
       "      <td>0.114107</td>\n",
       "      <td>0.849464</td>\n",
       "    </tr>\n",
       "    <tr>\n",
       "      <th>34</th>\n",
       "      <td>0.396929</td>\n",
       "      <td>0.438012</td>\n",
       "      <td>0.165059</td>\n",
       "    </tr>\n",
       "    <tr>\n",
       "      <th>35</th>\n",
       "      <td>0.002423</td>\n",
       "      <td>0.027179</td>\n",
       "      <td>0.970398</td>\n",
       "    </tr>\n",
       "    <tr>\n",
       "      <th>36</th>\n",
       "      <td>0.780638</td>\n",
       "      <td>0.183332</td>\n",
       "      <td>0.036030</td>\n",
       "    </tr>\n",
       "    <tr>\n",
       "      <th>37</th>\n",
       "      <td>0.002549</td>\n",
       "      <td>0.024642</td>\n",
       "      <td>0.972809</td>\n",
       "    </tr>\n",
       "    <tr>\n",
       "      <th>38</th>\n",
       "      <td>0.002840</td>\n",
       "      <td>0.020945</td>\n",
       "      <td>0.976214</td>\n",
       "    </tr>\n",
       "    <tr>\n",
       "      <th>39</th>\n",
       "      <td>0.764786</td>\n",
       "      <td>0.208560</td>\n",
       "      <td>0.026655</td>\n",
       "    </tr>\n",
       "    <tr>\n",
       "      <th>40</th>\n",
       "      <td>0.005963</td>\n",
       "      <td>0.081096</td>\n",
       "      <td>0.912941</td>\n",
       "    </tr>\n",
       "    <tr>\n",
       "      <th>41</th>\n",
       "      <td>0.012448</td>\n",
       "      <td>0.110956</td>\n",
       "      <td>0.876597</td>\n",
       "    </tr>\n",
       "    <tr>\n",
       "      <th>42</th>\n",
       "      <td>0.927190</td>\n",
       "      <td>0.066586</td>\n",
       "      <td>0.006224</td>\n",
       "    </tr>\n",
       "    <tr>\n",
       "      <th>43</th>\n",
       "      <td>0.002248</td>\n",
       "      <td>0.019422</td>\n",
       "      <td>0.978330</td>\n",
       "    </tr>\n",
       "    <tr>\n",
       "      <th>44</th>\n",
       "      <td>0.001816</td>\n",
       "      <td>0.010814</td>\n",
       "      <td>0.987369</td>\n",
       "    </tr>\n",
       "  </tbody>\n",
       "</table>\n",
       "</div>"
      ],
      "text/plain": [
       "    roberta_neg  roberta_neu  roberta_pos\n",
       "0      0.021544     0.071347     0.907109\n",
       "1      0.001573     0.021282     0.977145\n",
       "2      0.546480     0.361986     0.091534\n",
       "3      0.001080     0.011017     0.987903\n",
       "4      0.002381     0.018512     0.979107\n",
       "5      0.003821     0.030121     0.966058\n",
       "6      0.001180     0.019388     0.979432\n",
       "7      0.066148     0.319120     0.614731\n",
       "8      0.001463     0.013353     0.985184\n",
       "9      0.024020     0.130974     0.845006\n",
       "10     0.002654     0.030588     0.966758\n",
       "11     0.001809     0.025524     0.972667\n",
       "12     0.047098     0.135247     0.817655\n",
       "13     0.003013     0.032165     0.964823\n",
       "14     0.001270     0.016438     0.982292\n",
       "15     0.001701     0.014223     0.984075\n",
       "16     0.503622     0.375432     0.120946\n",
       "17     0.002783     0.019253     0.977964\n",
       "18     0.001817     0.021295     0.976888\n",
       "19     0.001602     0.014444     0.983955\n",
       "20     0.437969     0.400851     0.161179\n",
       "21     0.012563     0.071185     0.916252\n",
       "22     0.005819     0.039378     0.954802\n",
       "23     0.044196     0.207040     0.748764\n",
       "24     0.015833     0.213411     0.770757\n",
       "25     0.005306     0.060725     0.933969\n",
       "26     0.011937     0.072618     0.915445\n",
       "27     0.001505     0.027820     0.970675\n",
       "28     0.001798     0.012388     0.985815\n",
       "29     0.001991     0.073928     0.924082\n",
       "30     0.008076     0.035459     0.956465\n",
       "31     0.001276     0.024390     0.974334\n",
       "32     0.001475     0.017440     0.981084\n",
       "33     0.036429     0.114107     0.849464\n",
       "34     0.396929     0.438012     0.165059\n",
       "35     0.002423     0.027179     0.970398\n",
       "36     0.780638     0.183332     0.036030\n",
       "37     0.002549     0.024642     0.972809\n",
       "38     0.002840     0.020945     0.976214\n",
       "39     0.764786     0.208560     0.026655\n",
       "40     0.005963     0.081096     0.912941\n",
       "41     0.012448     0.110956     0.876597\n",
       "42     0.927190     0.066586     0.006224\n",
       "43     0.002248     0.019422     0.978330\n",
       "44     0.001816     0.010814     0.987369"
      ]
     },
     "execution_count": 11,
     "metadata": {},
     "output_type": "execute_result"
    }
   ],
   "source": [
    "results = pd.DataFrame(res).T\n",
    "results"
   ]
  },
  {
   "cell_type": "code",
   "execution_count": 12,
   "metadata": {},
   "outputs": [],
   "source": [
    "top_positive = np.argsort(results.roberta_pos.values)[::-1][:10]\n",
    "top_negative = np.argsort(results.roberta_neg.values)[::-1][:10]"
   ]
  },
  {
   "cell_type": "code",
   "execution_count": 13,
   "metadata": {},
   "outputs": [
    {
     "data": {
      "text/html": [
       "<div>\n",
       "<style scoped>\n",
       "    .dataframe tbody tr th:only-of-type {\n",
       "        vertical-align: middle;\n",
       "    }\n",
       "\n",
       "    .dataframe tbody tr th {\n",
       "        vertical-align: top;\n",
       "    }\n",
       "\n",
       "    .dataframe thead th {\n",
       "        text-align: right;\n",
       "    }\n",
       "</style>\n",
       "<table border=\"1\" class=\"dataframe\">\n",
       "  <thead>\n",
       "    <tr style=\"text-align: right;\">\n",
       "      <th></th>\n",
       "      <th>roberta_neg</th>\n",
       "      <th>roberta_neu</th>\n",
       "      <th>roberta_pos</th>\n",
       "    </tr>\n",
       "  </thead>\n",
       "  <tbody>\n",
       "    <tr>\n",
       "      <th>3</th>\n",
       "      <td>0.001080</td>\n",
       "      <td>0.011017</td>\n",
       "      <td>0.987903</td>\n",
       "    </tr>\n",
       "    <tr>\n",
       "      <th>44</th>\n",
       "      <td>0.001816</td>\n",
       "      <td>0.010814</td>\n",
       "      <td>0.987369</td>\n",
       "    </tr>\n",
       "    <tr>\n",
       "      <th>28</th>\n",
       "      <td>0.001798</td>\n",
       "      <td>0.012388</td>\n",
       "      <td>0.985815</td>\n",
       "    </tr>\n",
       "    <tr>\n",
       "      <th>8</th>\n",
       "      <td>0.001463</td>\n",
       "      <td>0.013353</td>\n",
       "      <td>0.985184</td>\n",
       "    </tr>\n",
       "    <tr>\n",
       "      <th>15</th>\n",
       "      <td>0.001701</td>\n",
       "      <td>0.014223</td>\n",
       "      <td>0.984075</td>\n",
       "    </tr>\n",
       "    <tr>\n",
       "      <th>19</th>\n",
       "      <td>0.001602</td>\n",
       "      <td>0.014444</td>\n",
       "      <td>0.983955</td>\n",
       "    </tr>\n",
       "    <tr>\n",
       "      <th>14</th>\n",
       "      <td>0.001270</td>\n",
       "      <td>0.016438</td>\n",
       "      <td>0.982292</td>\n",
       "    </tr>\n",
       "    <tr>\n",
       "      <th>32</th>\n",
       "      <td>0.001475</td>\n",
       "      <td>0.017440</td>\n",
       "      <td>0.981084</td>\n",
       "    </tr>\n",
       "    <tr>\n",
       "      <th>6</th>\n",
       "      <td>0.001180</td>\n",
       "      <td>0.019388</td>\n",
       "      <td>0.979432</td>\n",
       "    </tr>\n",
       "    <tr>\n",
       "      <th>4</th>\n",
       "      <td>0.002381</td>\n",
       "      <td>0.018512</td>\n",
       "      <td>0.979107</td>\n",
       "    </tr>\n",
       "  </tbody>\n",
       "</table>\n",
       "</div>"
      ],
      "text/plain": [
       "    roberta_neg  roberta_neu  roberta_pos\n",
       "3      0.001080     0.011017     0.987903\n",
       "44     0.001816     0.010814     0.987369\n",
       "28     0.001798     0.012388     0.985815\n",
       "8      0.001463     0.013353     0.985184\n",
       "15     0.001701     0.014223     0.984075\n",
       "19     0.001602     0.014444     0.983955\n",
       "14     0.001270     0.016438     0.982292\n",
       "32     0.001475     0.017440     0.981084\n",
       "6      0.001180     0.019388     0.979432\n",
       "4      0.002381     0.018512     0.979107"
      ]
     },
     "execution_count": 13,
     "metadata": {},
     "output_type": "execute_result"
    }
   ],
   "source": [
    "results.iloc[top_positive]"
   ]
  },
  {
   "cell_type": "code",
   "execution_count": 14,
   "metadata": {},
   "outputs": [
    {
     "data": {
      "text/plain": [
       "'We went here on a weekend and one of us had the buffet while two of us took Ala Carte Firstly the ambience and service of this place is great The buffet had a lot of items and the good was good We had a Pumpkin Halwa intm the dessert which was amazing Must try The kulchas are great here Cheers'"
      ]
     },
     "execution_count": 14,
     "metadata": {},
     "output_type": "execute_result"
    }
   ],
   "source": [
    "jalsa_comments[top_positive[0]]"
   ]
  },
  {
   "cell_type": "code",
   "execution_count": 15,
   "metadata": {},
   "outputs": [
    {
     "data": {
      "text/plain": [
       "'For team lunch this was the choice we made to try and unfortunately they disappointed most of us\\n\\nInitially they served us cold food and looked they were in rush to feed us and kick out lol but this was the feeling we all had\\n\\nWe raised concern to manager and he started sending hot starters on our table however they started ignoring and became very slow which was odd I wish they could understand that it takes time to eat what is already served\\n\\nAnyways not so great buffet menu and taste specially during lunch time It may be different at dinner time Well I am not ready to try'"
      ]
     },
     "execution_count": 15,
     "metadata": {},
     "output_type": "execute_result"
    }
   ],
   "source": [
    "jalsa_comments[top_negative[0]]"
   ]
  },
  {
   "attachments": {},
   "cell_type": "markdown",
   "metadata": {},
   "source": [
    "## Keyphrases"
   ]
  },
  {
   "cell_type": "code",
   "execution_count": 16,
   "metadata": {},
   "outputs": [],
   "source": [
    "def unite(comments: np.array) -> str:\n",
    "    s = f''\n",
    "    for comment in comments:\n",
    "        s += f'{comment} '\n",
    "    \n",
    "    return s"
   ]
  },
  {
   "cell_type": "code",
   "execution_count": 17,
   "metadata": {},
   "outputs": [
    {
     "data": {
      "text/plain": [
       "['right food taste 45 ambience 455 quality 45 quantity 45 service 45 chances',\n",
       " 'time line amazing interior good lighting stuff',\n",
       " 'disappointed us test quality service staff',\n",
       " 'must try item egg fried rice',\n",
       " 'lal mirch ka paneer tikka',\n",
       " 'us took ala carte firstly',\n",
       " 'tasty food cheese chilli paratha',\n",
       " 'asked nice food serve biryani',\n",
       " 'lip smacking chicken platter',\n",
       " 'bhutta palak methi curry']"
      ]
     },
     "execution_count": 17,
     "metadata": {},
     "output_type": "execute_result"
    }
   ],
   "source": [
    "rake = Rake()\n",
    "rake.extract_keywords_from_text(unite(jalsa_comments[top_positive]))\n",
    "rake.get_ranked_phrases()[:10]"
   ]
  },
  {
   "cell_type": "code",
   "execution_count": 18,
   "metadata": {},
   "outputs": [
    {
     "data": {
      "text/plain": [
       "['try good things firstthe ambience 55 service decent staff attitude didnt turn',\n",
       " 'ordered starters macchi ajwaini tikka cheese bombs paneer laziz murg achari tikka',\n",
       " 'lip smacking delicious main course paneer lababdar gosht nihari',\n",
       " 'karela salad 3 decor 4 restroom',\n",
       " 'outer ring road marthahalli coming',\n",
       " 'mughal empire proper sofa seating',\n",
       " 'us food tasted average nothing exceptional',\n",
       " 'macchi ajwaini tikka',\n",
       " 'thus always order alacarte service',\n",
       " '5 main course place needs']"
      ]
     },
     "execution_count": 18,
     "metadata": {},
     "output_type": "execute_result"
    }
   ],
   "source": [
    "rake = Rake()\n",
    "rake.extract_keywords_from_text(unite(jalsa_comments[top_negative]))\n",
    "rake.get_ranked_phrases()[:10]"
   ]
  }
 ],
 "metadata": {
  "kernelspec": {
   "display_name": "Python 3",
   "language": "python",
   "name": "python3"
  },
  "language_info": {
   "codemirror_mode": {
    "name": "ipython",
    "version": 3
   },
   "file_extension": ".py",
   "mimetype": "text/x-python",
   "name": "python",
   "nbconvert_exporter": "python",
   "pygments_lexer": "ipython3",
   "version": "3.10.7 (main, Sep 15 2022, 01:51:29) [Clang 14.0.0 (clang-1400.0.29.102)]"
  },
  "orig_nbformat": 4,
  "vscode": {
   "interpreter": {
    "hash": "aee8b7b246df8f9039afb4144a1f6fd8d2ca17a180786b69acc140d282b71a49"
   }
  }
 },
 "nbformat": 4,
 "nbformat_minor": 2
}
