{
 "cells": [
  {
   "cell_type": "code",
   "execution_count": 1,
   "metadata": {},
   "outputs": [],
   "source": [
    "import pandas as pd\n",
    "import numpy as np"
   ]
  },
  {
   "cell_type": "code",
   "execution_count": 2,
   "metadata": {},
   "outputs": [],
   "source": [
    "from datetime import datetime"
   ]
  },
  {
   "cell_type": "code",
   "execution_count": 3,
   "metadata": {},
   "outputs": [],
   "source": [
    "users = pd.read_csv('data/Users.csv')\n",
    "orders = pd.read_csv('data/Orders_with_time.csv')\n",
    "products = pd.read_csv('data/Products.csv')"
   ]
  },
  {
   "cell_type": "code",
   "execution_count": 13,
   "metadata": {},
   "outputs": [],
   "source": [
    "orders_final = orders[:1000]"
   ]
  },
  {
   "cell_type": "code",
   "execution_count": 22,
   "metadata": {},
   "outputs": [
    {
     "name": "stderr",
     "output_type": "stream",
     "text": [
      "/var/folders/8b/pxxxz31x0jz3q6g0qyhq87cw0000gn/T/ipykernel_52531/1636561066.py:1: SettingWithCopyWarning: \n",
      "A value is trying to be set on a copy of a slice from a DataFrame.\n",
      "Try using .loc[row_indexer,col_indexer] = value instead\n",
      "\n",
      "See the caveats in the documentation: https://pandas.pydata.org/pandas-docs/stable/user_guide/indexing.html#returning-a-view-versus-a-copy\n",
      "  orders_final['time'] = pd.to_datetime(orders_final['time'])\n"
     ]
    }
   ],
   "source": [
    "orders_final['time'] = pd.to_datetime(orders_final['time'])"
   ]
  },
  {
   "cell_type": "code",
   "execution_count": 23,
   "metadata": {},
   "outputs": [
    {
     "data": {
      "text/html": [
       "<div>\n",
       "<style scoped>\n",
       "    .dataframe tbody tr th:only-of-type {\n",
       "        vertical-align: middle;\n",
       "    }\n",
       "\n",
       "    .dataframe tbody tr th {\n",
       "        vertical-align: top;\n",
       "    }\n",
       "\n",
       "    .dataframe thead th {\n",
       "        text-align: right;\n",
       "    }\n",
       "</style>\n",
       "<table border=\"1\" class=\"dataframe\">\n",
       "  <thead>\n",
       "    <tr style=\"text-align: right;\">\n",
       "      <th></th>\n",
       "      <th>Name</th>\n",
       "      <th>BarCode</th>\n",
       "      <th>Price</th>\n",
       "      <th>LoaltyCoeff</th>\n",
       "      <th>Point_id</th>\n",
       "    </tr>\n",
       "  </thead>\n",
       "  <tbody>\n",
       "    <tr>\n",
       "      <th>0</th>\n",
       "      <td>Chocolate Sandwich Cookies</td>\n",
       "      <td>903304753514</td>\n",
       "      <td>21.60</td>\n",
       "      <td>0.99</td>\n",
       "      <td>6191</td>\n",
       "    </tr>\n",
       "    <tr>\n",
       "      <th>1</th>\n",
       "      <td>All-Seasons Salt</td>\n",
       "      <td>401309075522</td>\n",
       "      <td>25.90</td>\n",
       "      <td>0.58</td>\n",
       "      <td>6870</td>\n",
       "    </tr>\n",
       "    <tr>\n",
       "      <th>2</th>\n",
       "      <td>Robust Golden Unsweetened Oolong Tea</td>\n",
       "      <td>851892036179</td>\n",
       "      <td>8.47</td>\n",
       "      <td>0.66</td>\n",
       "      <td>406</td>\n",
       "    </tr>\n",
       "    <tr>\n",
       "      <th>3</th>\n",
       "      <td>Smart Ones Classic Favorites Mini Rigatoni Wit...</td>\n",
       "      <td>445454311328</td>\n",
       "      <td>13.53</td>\n",
       "      <td>0.77</td>\n",
       "      <td>5459</td>\n",
       "    </tr>\n",
       "    <tr>\n",
       "      <th>4</th>\n",
       "      <td>Green Chile Anytime Sauce</td>\n",
       "      <td>304753955703</td>\n",
       "      <td>22.73</td>\n",
       "      <td>0.24</td>\n",
       "      <td>4954</td>\n",
       "    </tr>\n",
       "  </tbody>\n",
       "</table>\n",
       "</div>"
      ],
      "text/plain": [
       "                                                Name       BarCode  Price  \\\n",
       "0                         Chocolate Sandwich Cookies  903304753514  21.60   \n",
       "1                                   All-Seasons Salt  401309075522  25.90   \n",
       "2               Robust Golden Unsweetened Oolong Tea  851892036179   8.47   \n",
       "3  Smart Ones Classic Favorites Mini Rigatoni Wit...  445454311328  13.53   \n",
       "4                          Green Chile Anytime Sauce  304753955703  22.73   \n",
       "\n",
       "   LoaltyCoeff  Point_id  \n",
       "0         0.99      6191  \n",
       "1         0.58      6870  \n",
       "2         0.66       406  \n",
       "3         0.77      5459  \n",
       "4         0.24      4954  "
      ]
     },
     "execution_count": 23,
     "metadata": {},
     "output_type": "execute_result"
    }
   ],
   "source": [
    "products.head()"
   ]
  },
  {
   "cell_type": "code",
   "execution_count": 24,
   "metadata": {},
   "outputs": [],
   "source": [
    "orders_products = orders_final.merge(products, left_on='product_id', left_index=False, right_index=True)"
   ]
  },
  {
   "cell_type": "code",
   "execution_count": 25,
   "metadata": {},
   "outputs": [
    {
     "data": {
      "text/html": [
       "<div>\n",
       "<style scoped>\n",
       "    .dataframe tbody tr th:only-of-type {\n",
       "        vertical-align: middle;\n",
       "    }\n",
       "\n",
       "    .dataframe tbody tr th {\n",
       "        vertical-align: top;\n",
       "    }\n",
       "\n",
       "    .dataframe thead th {\n",
       "        text-align: right;\n",
       "    }\n",
       "</style>\n",
       "<table border=\"1\" class=\"dataframe\">\n",
       "  <thead>\n",
       "    <tr style=\"text-align: right;\">\n",
       "      <th></th>\n",
       "      <th>order_id</th>\n",
       "      <th>user_id</th>\n",
       "      <th>order_number</th>\n",
       "      <th>order_dow</th>\n",
       "      <th>order_hour_of_day</th>\n",
       "      <th>days_since_last_order</th>\n",
       "      <th>product_id</th>\n",
       "      <th>reordered</th>\n",
       "      <th>time</th>\n",
       "      <th>Name</th>\n",
       "      <th>BarCode</th>\n",
       "      <th>Price</th>\n",
       "      <th>LoaltyCoeff</th>\n",
       "      <th>Point_id</th>\n",
       "    </tr>\n",
       "  </thead>\n",
       "  <tbody>\n",
       "    <tr>\n",
       "      <th>0</th>\n",
       "      <td>2539329.0</td>\n",
       "      <td>1.0</td>\n",
       "      <td>1.0</td>\n",
       "      <td>2.0</td>\n",
       "      <td>8.0</td>\n",
       "      <td>NaN</td>\n",
       "      <td>196.0</td>\n",
       "      <td>0.0</td>\n",
       "      <td>2012-10-01 00:00:00</td>\n",
       "      <td>Cold Brew Coffee Tahitian Vanilla</td>\n",
       "      <td>284125606973</td>\n",
       "      <td>16.19</td>\n",
       "      <td>0.39</td>\n",
       "      <td>7309</td>\n",
       "    </tr>\n",
       "    <tr>\n",
       "      <th>5</th>\n",
       "      <td>2398795.0</td>\n",
       "      <td>1.0</td>\n",
       "      <td>2.0</td>\n",
       "      <td>3.0</td>\n",
       "      <td>7.0</td>\n",
       "      <td>15.0</td>\n",
       "      <td>196.0</td>\n",
       "      <td>1.0</td>\n",
       "      <td>2012-10-01 00:05:00</td>\n",
       "      <td>Cold Brew Coffee Tahitian Vanilla</td>\n",
       "      <td>284125606973</td>\n",
       "      <td>16.19</td>\n",
       "      <td>0.39</td>\n",
       "      <td>7309</td>\n",
       "    </tr>\n",
       "    <tr>\n",
       "      <th>11</th>\n",
       "      <td>473747.0</td>\n",
       "      <td>1.0</td>\n",
       "      <td>3.0</td>\n",
       "      <td>3.0</td>\n",
       "      <td>12.0</td>\n",
       "      <td>21.0</td>\n",
       "      <td>196.0</td>\n",
       "      <td>1.0</td>\n",
       "      <td>2012-10-01 00:11:00</td>\n",
       "      <td>Cold Brew Coffee Tahitian Vanilla</td>\n",
       "      <td>284125606973</td>\n",
       "      <td>16.19</td>\n",
       "      <td>0.39</td>\n",
       "      <td>7309</td>\n",
       "    </tr>\n",
       "    <tr>\n",
       "      <th>16</th>\n",
       "      <td>2254736.0</td>\n",
       "      <td>1.0</td>\n",
       "      <td>4.0</td>\n",
       "      <td>4.0</td>\n",
       "      <td>7.0</td>\n",
       "      <td>29.0</td>\n",
       "      <td>196.0</td>\n",
       "      <td>1.0</td>\n",
       "      <td>2012-10-01 00:16:00</td>\n",
       "      <td>Cold Brew Coffee Tahitian Vanilla</td>\n",
       "      <td>284125606973</td>\n",
       "      <td>16.19</td>\n",
       "      <td>0.39</td>\n",
       "      <td>7309</td>\n",
       "    </tr>\n",
       "    <tr>\n",
       "      <th>21</th>\n",
       "      <td>431534.0</td>\n",
       "      <td>1.0</td>\n",
       "      <td>5.0</td>\n",
       "      <td>4.0</td>\n",
       "      <td>15.0</td>\n",
       "      <td>28.0</td>\n",
       "      <td>196.0</td>\n",
       "      <td>1.0</td>\n",
       "      <td>2012-10-01 00:21:00</td>\n",
       "      <td>Cold Brew Coffee Tahitian Vanilla</td>\n",
       "      <td>284125606973</td>\n",
       "      <td>16.19</td>\n",
       "      <td>0.39</td>\n",
       "      <td>7309</td>\n",
       "    </tr>\n",
       "  </tbody>\n",
       "</table>\n",
       "</div>"
      ],
      "text/plain": [
       "     order_id  user_id  order_number  order_dow  order_hour_of_day  \\\n",
       "0   2539329.0      1.0           1.0        2.0                8.0   \n",
       "5   2398795.0      1.0           2.0        3.0                7.0   \n",
       "11   473747.0      1.0           3.0        3.0               12.0   \n",
       "16  2254736.0      1.0           4.0        4.0                7.0   \n",
       "21   431534.0      1.0           5.0        4.0               15.0   \n",
       "\n",
       "    days_since_last_order  product_id  reordered                time  \\\n",
       "0                     NaN       196.0        0.0 2012-10-01 00:00:00   \n",
       "5                    15.0       196.0        1.0 2012-10-01 00:05:00   \n",
       "11                   21.0       196.0        1.0 2012-10-01 00:11:00   \n",
       "16                   29.0       196.0        1.0 2012-10-01 00:16:00   \n",
       "21                   28.0       196.0        1.0 2012-10-01 00:21:00   \n",
       "\n",
       "                                 Name       BarCode  Price  LoaltyCoeff  \\\n",
       "0   Cold Brew Coffee Tahitian Vanilla  284125606973  16.19         0.39   \n",
       "5   Cold Brew Coffee Tahitian Vanilla  284125606973  16.19         0.39   \n",
       "11  Cold Brew Coffee Tahitian Vanilla  284125606973  16.19         0.39   \n",
       "16  Cold Brew Coffee Tahitian Vanilla  284125606973  16.19         0.39   \n",
       "21  Cold Brew Coffee Tahitian Vanilla  284125606973  16.19         0.39   \n",
       "\n",
       "    Point_id  \n",
       "0       7309  \n",
       "5       7309  \n",
       "11      7309  \n",
       "16      7309  \n",
       "21      7309  "
      ]
     },
     "execution_count": 25,
     "metadata": {},
     "output_type": "execute_result"
    }
   ],
   "source": [
    "orders_products.head()"
   ]
  },
  {
   "cell_type": "code",
   "execution_count": 56,
   "metadata": {},
   "outputs": [
    {
     "data": {
      "text/plain": [
       "0"
      ]
     },
     "execution_count": 56,
     "metadata": {},
     "output_type": "execute_result"
    }
   ],
   "source": [
    "orders_final.iloc[15].time.weekday()"
   ]
  },
  {
   "cell_type": "code",
   "execution_count": 75,
   "metadata": {},
   "outputs": [],
   "source": [
    "def get_point_statistics(point_id=2, n=10):\n",
    "    product_profits = np.zeros(len(products.index.values))\n",
    "\n",
    "    day_demand = np.zeros(3)\n",
    "    week_demand = np.zeros(7)\n",
    "    month_demand = np.zeros(12)\n",
    "\n",
    "    day_profit = np.zeros(3)\n",
    "    week_profit = np.zeros(7)\n",
    "    month_profit = np.zeros(12)\n",
    "\n",
    "    for _, order_product in orders_products.iterrows():\n",
    "        product_profits[int(order_product.product_id)] += order_product.Price\n",
    "\n",
    "        if  order_product.time.hour < 12:\n",
    "            day_demand[0] += 1\n",
    "            day_profit[0] += order_product.Price\n",
    "        elif order_product.time.hour < 18:\n",
    "            day_demand[1] += 1\n",
    "            day_profit[1] += order_product.Price\n",
    "        else:\n",
    "            day_demand[2] += 1\n",
    "            day_profit[2] += order_product.Price\n",
    "\n",
    "        week_demand[int(order_product.time.weekday())] += 1\n",
    "        week_profit[int(order_product.time.weekday())] += order_product.Price\n",
    "\n",
    "        month_demand[int(order_product.time.month)] += 1\n",
    "        month_profit[int(order_product.time.month)] += order_product.Price\n",
    "\n",
    "\n",
    "    args = np.argsort(product_profits)\n",
    "\n",
    "    most_popular_profitable = args[:n]\n",
    "    least_popular_profitable= args[:-n-1:-1]\n",
    "\n",
    "    return {\n",
    "        'day_demand_mean': np.mean(day_demand),\n",
    "        'week_demand_mean': np.mean(week_demand),\n",
    "        'year_demand_mean': np.mean(month_demand),\n",
    "\n",
    "        'day_profit_mean': np.mean(day_profit),\n",
    "        'week_profit_mean': np.mean(week_profit),\n",
    "        'year_profit_mean': np.mean(month_profit),\n",
    "\n",
    "        'day_demand': day_demand / sum(day_demand),\n",
    "        'week_demand': week_demand / sum(week_demand),\n",
    "        'year_demand': month_demand / sum(month_demand),\n",
    "\n",
    "        'day_profit': day_profit / sum(day_profit),\n",
    "        'week_profit': week_profit / sum(week_profit),\n",
    "        'year_profit': month_profit / sum(month_profit),\n",
    "\n",
    "        'most_profitable': most_popular_profitable,\n",
    "        'least_profitable': least_popular_profitable,\n",
    "    }"
   ]
  },
  {
   "cell_type": "code",
   "execution_count": 76,
   "metadata": {},
   "outputs": [
    {
     "data": {
      "text/plain": [
       "{'day_demand_mean': 333.3333333333333,\n",
       " 'week_demand_mean': 142.85714285714286,\n",
       " 'year_demand_mean': 83.33333333333333,\n",
       " 'day_profit_mean': 8449.523333333333,\n",
       " 'week_profit_mean': 3621.2242857142846,\n",
       " 'year_profit_mean': 2112.3808333333327,\n",
       " 'day_demand': array([0.72, 0.28, 0.  ]),\n",
       " 'week_demand': array([1., 0., 0., 0., 0., 0., 0.]),\n",
       " 'year_demand': array([0., 0., 0., 0., 0., 0., 0., 0., 0., 0., 1., 0.]),\n",
       " 'day_profit': array([0.72847068, 0.27152932, 0.        ]),\n",
       " 'week_profit': array([1., 0., 0., 0., 0., 0., 0.]),\n",
       " 'year_profit': array([0., 0., 0., 0., 0., 0., 0., 0., 0., 0., 1., 0.]),\n",
       " 'most_profitable': array([    0, 33046, 33047, 33048, 33049, 33050, 33051, 33052, 33053,\n",
       "        33054]),\n",
       " 'least_profitable': array([37602, 47766, 39190, 17638, 25133, 12427, 16797, 21137, 42803])}"
      ]
     },
     "execution_count": 76,
     "metadata": {},
     "output_type": "execute_result"
    }
   ],
   "source": [
    "get_point_statistics()"
   ]
  },
  {
   "cell_type": "code",
   "execution_count": 106,
   "metadata": {},
   "outputs": [
    {
     "data": {
      "text/plain": [
       "Int64Index([785, 2930, 8522, 1014, 6214, 5792, 1528, 8288, 292], dtype='int64')"
      ]
     },
     "execution_count": 106,
     "metadata": {},
     "output_type": "execute_result"
    }
   ],
   "source": [
    "user_orders_products = orders_products[orders_products.user_id == 2]\n",
    "points_popularity = user_orders_products.Point_id.value_counts()\n",
    "points_popularity.index[:-10:-1]"
   ]
  },
  {
   "cell_type": "code",
   "execution_count": 128,
   "metadata": {},
   "outputs": [],
   "source": [
    "def get_user_statistics(user_id=2, n=10):\n",
    "    user_orders_products = orders_products[orders_products.user_id == user_id]\n",
    "    points_popularity = user_orders_products.Point_id.value_counts()\n",
    "    product_popularity = user_orders_products.product_id.value_counts()\n",
    "\n",
    "    money_spent_on_popular = user_orders_products[user_orders_products.Point_id.isin(points_popularity.index[:n])].Price.sum()\n",
    "    money_spent = user_orders_products.Price.sum()\n",
    "\n",
    "    return {\n",
    "            'most_popular_point': points_popularity.index[:n].to_list(),\n",
    "            'least_popular_point': points_popularity.index[:-n-1:-1].to_list(),\n",
    "            'most_popular_product': product_popularity.index[:n].to_list(),\n",
    "            'least_popular_product': product_popularity.index[:-n-1:-1].to_list(),\n",
    "            'money_spent_on_popular': money_spent_on_popular,\n",
    "            'money_spent': money_spent,\n",
    "    }"
   ]
  },
  {
   "cell_type": "code",
   "execution_count": 132,
   "metadata": {},
   "outputs": [
    {
     "data": {
      "text/plain": [
       "{'most_popular_point': [7566, 2086, 6333, 1630, 6513],\n",
       " 'least_popular_point': [785, 2930, 8522, 1014, 6214],\n",
       " 'most_popular_product': [32792.0, 47209.0, 24852.0, 1559.0, 19156.0],\n",
       " 'least_popular_product': [7963.0, 15841.0, 18961.0, 13742.0, 14306.0],\n",
       " 'money_spent_on_popular': 427.6399999999999,\n",
       " 'money_spent': 4535.99}"
      ]
     },
     "execution_count": 132,
     "metadata": {},
     "output_type": "execute_result"
    },
    {
     "ename": "",
     "evalue": "",
     "output_type": "error",
     "traceback": [
      "\u001b[1;31mThe Kernel crashed while executing code in the the current cell or a previous cell. Please review the code in the cell(s) to identify a possible cause of the failure. Click <a href='https://aka.ms/vscodeJupyterKernelCrash'>here</a> for more info. View Jupyter <a href='command:jupyter.viewOutput'>log</a> for further details."
     ]
    }
   ],
   "source": [
    "get_user_statistics(user_id=2, n=5)"
   ]
  }
 ],
 "metadata": {
  "kernelspec": {
   "display_name": "Python 3",
   "language": "python",
   "name": "python3"
  },
  "language_info": {
   "codemirror_mode": {
    "name": "ipython",
    "version": 3
   },
   "file_extension": ".py",
   "mimetype": "text/x-python",
   "name": "python",
   "nbconvert_exporter": "python",
   "pygments_lexer": "ipython3",
   "version": "3.10.7"
  },
  "orig_nbformat": 4,
  "vscode": {
   "interpreter": {
    "hash": "aee8b7b246df8f9039afb4144a1f6fd8d2ca17a180786b69acc140d282b71a49"
   }
  }
 },
 "nbformat": 4,
 "nbformat_minor": 2
}
