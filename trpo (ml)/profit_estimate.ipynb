{
 "cells": [
  {
   "cell_type": "code",
   "execution_count": 1,
   "metadata": {},
   "outputs": [],
   "source": [
    "import numpy as np\n",
    "import pandas as pd\n",
    "from sklearn.linear_model import LinearRegression\n",
    "from sklearn.model_selection import train_test_split\n",
    "from sklearn.metrics import accuracy_score"
   ]
  },
  {
   "cell_type": "code",
   "execution_count": 2,
   "metadata": {},
   "outputs": [],
   "source": [
    "orders = pd.read_csv('data/Orders.csv')"
   ]
  },
  {
   "cell_type": "code",
   "execution_count": 3,
   "metadata": {},
   "outputs": [],
   "source": [
    "orders['time'] = pd.date_range('2012-10-01', periods=len(orders), freq='1min')"
   ]
  },
  {
   "cell_type": "code",
   "execution_count": 4,
   "metadata": {},
   "outputs": [],
   "source": [
    "# orders.to_csv('Orders_with_time', index=False)"
   ]
  },
  {
   "cell_type": "code",
   "execution_count": 87,
   "metadata": {},
   "outputs": [
    {
     "data": {
      "text/html": [
       "<div>\n",
       "<style scoped>\n",
       "    .dataframe tbody tr th:only-of-type {\n",
       "        vertical-align: middle;\n",
       "    }\n",
       "\n",
       "    .dataframe tbody tr th {\n",
       "        vertical-align: top;\n",
       "    }\n",
       "\n",
       "    .dataframe thead th {\n",
       "        text-align: right;\n",
       "    }\n",
       "</style>\n",
       "<table border=\"1\" class=\"dataframe\">\n",
       "  <thead>\n",
       "    <tr style=\"text-align: right;\">\n",
       "      <th></th>\n",
       "      <th>Name</th>\n",
       "      <th>BarCode</th>\n",
       "      <th>Price</th>\n",
       "      <th>LoaltyCoeff</th>\n",
       "      <th>Point_id</th>\n",
       "    </tr>\n",
       "  </thead>\n",
       "  <tbody>\n",
       "    <tr>\n",
       "      <th>0</th>\n",
       "      <td>Chocolate Sandwich Cookies</td>\n",
       "      <td>903304753514</td>\n",
       "      <td>21.60</td>\n",
       "      <td>0.99</td>\n",
       "      <td>6191</td>\n",
       "    </tr>\n",
       "    <tr>\n",
       "      <th>1</th>\n",
       "      <td>All-Seasons Salt</td>\n",
       "      <td>401309075522</td>\n",
       "      <td>25.90</td>\n",
       "      <td>0.58</td>\n",
       "      <td>6870</td>\n",
       "    </tr>\n",
       "    <tr>\n",
       "      <th>2</th>\n",
       "      <td>Robust Golden Unsweetened Oolong Tea</td>\n",
       "      <td>851892036179</td>\n",
       "      <td>8.47</td>\n",
       "      <td>0.66</td>\n",
       "      <td>406</td>\n",
       "    </tr>\n",
       "    <tr>\n",
       "      <th>3</th>\n",
       "      <td>Smart Ones Classic Favorites Mini Rigatoni Wit...</td>\n",
       "      <td>445454311328</td>\n",
       "      <td>13.53</td>\n",
       "      <td>0.77</td>\n",
       "      <td>5459</td>\n",
       "    </tr>\n",
       "    <tr>\n",
       "      <th>4</th>\n",
       "      <td>Green Chile Anytime Sauce</td>\n",
       "      <td>304753955703</td>\n",
       "      <td>22.73</td>\n",
       "      <td>0.24</td>\n",
       "      <td>4954</td>\n",
       "    </tr>\n",
       "  </tbody>\n",
       "</table>\n",
       "</div>"
      ],
      "text/plain": [
       "                                                Name       BarCode  Price  \\\n",
       "0                         Chocolate Sandwich Cookies  903304753514  21.60   \n",
       "1                                   All-Seasons Salt  401309075522  25.90   \n",
       "2               Robust Golden Unsweetened Oolong Tea  851892036179   8.47   \n",
       "3  Smart Ones Classic Favorites Mini Rigatoni Wit...  445454311328  13.53   \n",
       "4                          Green Chile Anytime Sauce  304753955703  22.73   \n",
       "\n",
       "   LoaltyCoeff  Point_id  \n",
       "0         0.99      6191  \n",
       "1         0.58      6870  \n",
       "2         0.66       406  \n",
       "3         0.77      5459  \n",
       "4         0.24      4954  "
      ]
     },
     "execution_count": 87,
     "metadata": {},
     "output_type": "execute_result"
    }
   ],
   "source": [
    "products = pd.read_csv('data/Products.csv')\n",
    "products.head()"
   ]
  },
  {
   "cell_type": "code",
   "execution_count": 88,
   "metadata": {},
   "outputs": [],
   "source": [
    "orders_product = orders.merge(products, left_on='product_id', left_index=False, right_index=True)"
   ]
  },
  {
   "cell_type": "code",
   "execution_count": 89,
   "metadata": {},
   "outputs": [
    {
     "data": {
      "text/html": [
       "<div>\n",
       "<style scoped>\n",
       "    .dataframe tbody tr th:only-of-type {\n",
       "        vertical-align: middle;\n",
       "    }\n",
       "\n",
       "    .dataframe tbody tr th {\n",
       "        vertical-align: top;\n",
       "    }\n",
       "\n",
       "    .dataframe thead th {\n",
       "        text-align: right;\n",
       "    }\n",
       "</style>\n",
       "<table border=\"1\" class=\"dataframe\">\n",
       "  <thead>\n",
       "    <tr style=\"text-align: right;\">\n",
       "      <th></th>\n",
       "      <th>order_id</th>\n",
       "      <th>user_id</th>\n",
       "      <th>order_number</th>\n",
       "      <th>order_dow</th>\n",
       "      <th>order_hour_of_day</th>\n",
       "      <th>days_since_last_order</th>\n",
       "      <th>product_id</th>\n",
       "      <th>reordered</th>\n",
       "      <th>time</th>\n",
       "      <th>Name</th>\n",
       "      <th>BarCode</th>\n",
       "      <th>Price</th>\n",
       "      <th>LoaltyCoeff</th>\n",
       "      <th>Point_id</th>\n",
       "    </tr>\n",
       "  </thead>\n",
       "  <tbody>\n",
       "    <tr>\n",
       "      <th>0</th>\n",
       "      <td>2539329</td>\n",
       "      <td>1</td>\n",
       "      <td>1</td>\n",
       "      <td>2</td>\n",
       "      <td>8</td>\n",
       "      <td>NaN</td>\n",
       "      <td>196</td>\n",
       "      <td>0</td>\n",
       "      <td>2012-10-01 00:00:00</td>\n",
       "      <td>Cold Brew Coffee Tahitian Vanilla</td>\n",
       "      <td>284125606973</td>\n",
       "      <td>16.19</td>\n",
       "      <td>0.39</td>\n",
       "      <td>7309</td>\n",
       "    </tr>\n",
       "    <tr>\n",
       "      <th>5</th>\n",
       "      <td>2398795</td>\n",
       "      <td>1</td>\n",
       "      <td>2</td>\n",
       "      <td>3</td>\n",
       "      <td>7</td>\n",
       "      <td>15.0</td>\n",
       "      <td>196</td>\n",
       "      <td>1</td>\n",
       "      <td>2012-10-01 00:05:00</td>\n",
       "      <td>Cold Brew Coffee Tahitian Vanilla</td>\n",
       "      <td>284125606973</td>\n",
       "      <td>16.19</td>\n",
       "      <td>0.39</td>\n",
       "      <td>7309</td>\n",
       "    </tr>\n",
       "    <tr>\n",
       "      <th>11</th>\n",
       "      <td>473747</td>\n",
       "      <td>1</td>\n",
       "      <td>3</td>\n",
       "      <td>3</td>\n",
       "      <td>12</td>\n",
       "      <td>21.0</td>\n",
       "      <td>196</td>\n",
       "      <td>1</td>\n",
       "      <td>2012-10-01 00:11:00</td>\n",
       "      <td>Cold Brew Coffee Tahitian Vanilla</td>\n",
       "      <td>284125606973</td>\n",
       "      <td>16.19</td>\n",
       "      <td>0.39</td>\n",
       "      <td>7309</td>\n",
       "    </tr>\n",
       "    <tr>\n",
       "      <th>16</th>\n",
       "      <td>2254736</td>\n",
       "      <td>1</td>\n",
       "      <td>4</td>\n",
       "      <td>4</td>\n",
       "      <td>7</td>\n",
       "      <td>29.0</td>\n",
       "      <td>196</td>\n",
       "      <td>1</td>\n",
       "      <td>2012-10-01 00:16:00</td>\n",
       "      <td>Cold Brew Coffee Tahitian Vanilla</td>\n",
       "      <td>284125606973</td>\n",
       "      <td>16.19</td>\n",
       "      <td>0.39</td>\n",
       "      <td>7309</td>\n",
       "    </tr>\n",
       "    <tr>\n",
       "      <th>21</th>\n",
       "      <td>431534</td>\n",
       "      <td>1</td>\n",
       "      <td>5</td>\n",
       "      <td>4</td>\n",
       "      <td>15</td>\n",
       "      <td>28.0</td>\n",
       "      <td>196</td>\n",
       "      <td>1</td>\n",
       "      <td>2012-10-01 00:21:00</td>\n",
       "      <td>Cold Brew Coffee Tahitian Vanilla</td>\n",
       "      <td>284125606973</td>\n",
       "      <td>16.19</td>\n",
       "      <td>0.39</td>\n",
       "      <td>7309</td>\n",
       "    </tr>\n",
       "  </tbody>\n",
       "</table>\n",
       "</div>"
      ],
      "text/plain": [
       "    order_id  user_id  order_number  order_dow  order_hour_of_day  \\\n",
       "0    2539329        1             1          2                  8   \n",
       "5    2398795        1             2          3                  7   \n",
       "11    473747        1             3          3                 12   \n",
       "16   2254736        1             4          4                  7   \n",
       "21    431534        1             5          4                 15   \n",
       "\n",
       "    days_since_last_order  product_id  reordered                time  \\\n",
       "0                     NaN         196          0 2012-10-01 00:00:00   \n",
       "5                    15.0         196          1 2012-10-01 00:05:00   \n",
       "11                   21.0         196          1 2012-10-01 00:11:00   \n",
       "16                   29.0         196          1 2012-10-01 00:16:00   \n",
       "21                   28.0         196          1 2012-10-01 00:21:00   \n",
       "\n",
       "                                 Name       BarCode  Price  LoaltyCoeff  \\\n",
       "0   Cold Brew Coffee Tahitian Vanilla  284125606973  16.19         0.39   \n",
       "5   Cold Brew Coffee Tahitian Vanilla  284125606973  16.19         0.39   \n",
       "11  Cold Brew Coffee Tahitian Vanilla  284125606973  16.19         0.39   \n",
       "16  Cold Brew Coffee Tahitian Vanilla  284125606973  16.19         0.39   \n",
       "21  Cold Brew Coffee Tahitian Vanilla  284125606973  16.19         0.39   \n",
       "\n",
       "    Point_id  \n",
       "0       7309  \n",
       "5       7309  \n",
       "11      7309  \n",
       "16      7309  \n",
       "21      7309  "
      ]
     },
     "execution_count": 89,
     "metadata": {},
     "output_type": "execute_result"
    }
   ],
   "source": [
    "orders_product.head()"
   ]
  },
  {
   "cell_type": "code",
   "execution_count": 90,
   "metadata": {},
   "outputs": [],
   "source": [
    "def group_data_by_months(data):\n",
    "    X, y = [], []\n",
    "    last_order_time = data.time[0]\n",
    "    sum_price = 0.\n",
    "    counter = 0\n",
    "\n",
    "    for j, row in data.iterrows():\n",
    "        if j == 1:\n",
    "            break\n",
    "        sum_price += row.loc['Price']\n",
    "        counter += 1\n",
    "        if (row.time - last_order_time).days >= 5:\n",
    "            last_order_time = row.time\n",
    "            X.append([counter, sum_price])\n",
    "            y.append(sum_price)\n",
    "\n",
    "            sum_price = 0\n",
    "            counter = 0\n",
    "            \n",
    "    X.pop(-1)\n",
    "    y.pop(0)\n",
    "    X.pop(-1)\n",
    "    y.pop(-1)\n",
    "        \n",
    "    return X, y"
   ]
  },
  {
   "cell_type": "code",
   "execution_count": 91,
   "metadata": {},
   "outputs": [],
   "source": [
    "X, y = group_data_by_months(orders_product[:100000])"
   ]
  },
  {
   "cell_type": "code",
   "execution_count": 92,
   "metadata": {},
   "outputs": [],
   "source": [
    "def _train_test_split(X, y):\n",
    "    X_train, X_test, y_train, y_test = train_test_split(X, y, test_size=0.33, random_state=42)\n",
    "    return np.array(X_train), np.array(X_test), np.array(y_train), np.array(y_test)"
   ]
  },
  {
   "cell_type": "code",
   "execution_count": 93,
   "metadata": {},
   "outputs": [],
   "source": [
    "X_train, X_test, y_train, y_test = _train_test_split(X, y)"
   ]
  },
  {
   "cell_type": "code",
   "execution_count": 94,
   "metadata": {},
   "outputs": [],
   "source": [
    "model = LinearRegression(fit_intercept=True)\n",
    "model.fit(X_train, y_train);"
   ]
  },
  {
   "cell_type": "code",
   "execution_count": 108,
   "metadata": {},
   "outputs": [
    {
     "data": {
      "text/plain": [
       "-0.006745277474688338"
      ]
     },
     "execution_count": 108,
     "metadata": {},
     "output_type": "execute_result"
    }
   ],
   "source": [
    "model.score(X_test, y_test)"
   ]
  }
 ],
 "metadata": {
  "kernelspec": {
   "display_name": "Python 3",
   "language": "python",
   "name": "python3"
  },
  "language_info": {
   "codemirror_mode": {
    "name": "ipython",
    "version": 3
   },
   "file_extension": ".py",
   "mimetype": "text/x-python",
   "name": "python",
   "nbconvert_exporter": "python",
   "pygments_lexer": "ipython3",
   "version": "3.10.7"
  },
  "orig_nbformat": 4,
  "vscode": {
   "interpreter": {
    "hash": "aee8b7b246df8f9039afb4144a1f6fd8d2ca17a180786b69acc140d282b71a49"
   }
  }
 },
 "nbformat": 4,
 "nbformat_minor": 2
}
