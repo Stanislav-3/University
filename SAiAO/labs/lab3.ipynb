{
 "cells": [
  {
   "cell_type": "code",
   "execution_count": 1,
   "metadata": {},
   "outputs": [],
   "source": [
    "import numpy as np"
   ]
  },
  {
   "cell_type": "markdown",
   "metadata": {},
   "source": [
    "# Метод динамического программирования для задачи нахождения max пути в направленном графе без контуров"
   ]
  },
  {
   "cell_type": "code",
   "execution_count": 2,
   "metadata": {},
   "outputs": [],
   "source": [
    "adjacent_matrix = np.array([\n",
    "    [0, 1, 2, 0, 0, 0],\n",
    "    [0, 0, 2, 0, 1, 0],\n",
    "    [0, 0, 0, 2, 0, 0],\n",
    "    [0, 0, 0, 0, 2, 1],\n",
    "    [0, 0, 0, 0, 0, 2],\n",
    "    [0, 0, 0, 0, 0, 0]\n",
    "])"
   ]
  },
  {
   "cell_type": "code",
   "execution_count": 3,
   "metadata": {},
   "outputs": [],
   "source": [
    "def topological_sort(adjacent_matrix):\n",
    "    def dfs(adjacent_matrix, v_i, color, stack):\n",
    "        if color[v_i] == 'gray':\n",
    "            raise ValueError('Graph is cyclic.')\n",
    "\n",
    "        color[v_i] = 'gray'\n",
    "        \n",
    "        for vertex in np.nonzero(adjacent_matrix[v_i])[0]:\n",
    "            if color[vertex] != 'black':\n",
    "                dfs(adjacent_matrix, vertex, color, stack)\n",
    "\n",
    "        stack.append(v_i)\n",
    "        color[v_i] = 'black'\n",
    "        \n",
    "    color = ['white'] * len(adjacent_matrix)\n",
    "    stack = []\n",
    "\n",
    "    for v_i in range(len(adjacent_matrix)):\n",
    "        if color[v_i] == 'white':\n",
    "            dfs(adjacent_matrix, v_i, color, stack)\n",
    "\n",
    "    return np.array(stack[::-1])"
   ]
  },
  {
   "cell_type": "code",
   "execution_count": 4,
   "metadata": {},
   "outputs": [],
   "source": [
    "def find_max_route(adjacent_matrix, s, t):\n",
    "    nodes = topological_sort(adjacent_matrix)\n",
    "\n",
    "    s_i = np.argmax(nodes == s)\n",
    "    t_i = np.argmax(nodes == t)\n",
    "\n",
    "    if s_i > t_i:\n",
    "        return 'No route'\n",
    "    \n",
    "    nodes = nodes[s_i : t_i+1]\n",
    "\n",
    "    opt = [0] * len(nodes)\n",
    "    x = [-1] * len(nodes)\n",
    "\n",
    "    for i in range(1, len(nodes)):\n",
    "        parents = np.nonzero(adjacent_matrix[:, i])[0]\n",
    "\n",
    "        for parent_i in parents:\n",
    "            if parent_i > i:\n",
    "                raise 'Error'\n",
    "            \n",
    "            new_opt = opt[parent_i] + adjacent_matrix[parent_i, i]\n",
    "            if new_opt > opt[i]:\n",
    "                opt[i] = new_opt\n",
    "                x[i] = parent_i\n",
    "    \n",
    "    return {\n",
    "        'max': opt[-1],\n",
    "        'route': x[1:]\n",
    "    }"
   ]
  },
  {
   "cell_type": "code",
   "execution_count": 5,
   "metadata": {},
   "outputs": [
    {
     "data": {
      "text/plain": [
       "{'max': 9, 'route': [0, 1, 2, 3, 4]}"
      ]
     },
     "execution_count": 5,
     "metadata": {},
     "output_type": "execute_result"
    }
   ],
   "source": [
    "find_max_route(adjacent_matrix, 0, 5)"
   ]
  }
 ],
 "metadata": {
  "kernelspec": {
   "display_name": "Python 3.10.7 64-bit",
   "language": "python",
   "name": "python3"
  },
  "language_info": {
   "codemirror_mode": {
    "name": "ipython",
    "version": 3
   },
   "file_extension": ".py",
   "mimetype": "text/x-python",
   "name": "python",
   "nbconvert_exporter": "python",
   "pygments_lexer": "ipython3",
   "version": "3.10.7"
  },
  "orig_nbformat": 4,
  "vscode": {
   "interpreter": {
    "hash": "aee8b7b246df8f9039afb4144a1f6fd8d2ca17a180786b69acc140d282b71a49"
   }
  }
 },
 "nbformat": 4,
 "nbformat_minor": 2
}
