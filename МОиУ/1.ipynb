{
 "cells": [
  {
   "cell_type": "code",
   "execution_count": 21,
   "metadata": {},
   "outputs": [],
   "source": [
    "import numpy as np"
   ]
  },
  {
   "cell_type": "code",
   "execution_count": 22,
   "metadata": {},
   "outputs": [],
   "source": [
    "def dot(A, B, index):\n",
    "    C = np.zeros(A.shape)\n",
    "    for i in range(len(A)):\n",
    "        for j in range(len(A)):\n",
    "            C[i][j] += A[i][index] * B[index][j]\n",
    "            if i != index:\n",
    "                C[i][j] += B[i][j]\n",
    "\n",
    "    return C"
   ]
  },
  {
   "cell_type": "code",
   "execution_count": 23,
   "metadata": {},
   "outputs": [],
   "source": [
    "def solve(A_inv: np.array, x: np.array, index: int):\n",
    "    # 1:\n",
    "    l = A_inv @ x\n",
    "    if l[index] == 0:\n",
    "        return False\n",
    "\n",
    "    # 2:\n",
    "    l_wave = np.copy(l)\n",
    "    l_wave[index] = -1.\n",
    "\n",
    "    # 3:\n",
    "    l_hat = -1. / l[index] * l_wave\n",
    "\n",
    "    # 4:\n",
    "    Q = np.identity(len(x))\n",
    "    Q[:, index] = l_hat\n",
    "\n",
    "    # 5:\n",
    "    return dot(Q, A_inv, index)\n",
    "\n"
   ]
  },
  {
   "cell_type": "code",
   "execution_count": 24,
   "metadata": {},
   "outputs": [
    {
     "data": {
      "text/plain": [
       "array([[ 1.,  1., -1.],\n",
       "       [ 0.,  1.,  0.],\n",
       "       [ 0.,  0.,  1.]])"
      ]
     },
     "execution_count": 24,
     "metadata": {},
     "output_type": "execute_result"
    }
   ],
   "source": [
    "A = np.array([[1, 1, 0], [0, 1, 0], [0, 0, 1]])\n",
    "x = np.array([1, 0, 1])\n",
    "solve(A, x, 2)"
   ]
  }
 ],
 "metadata": {
  "interpreter": {
   "hash": "aee8b7b246df8f9039afb4144a1f6fd8d2ca17a180786b69acc140d282b71a49"
  },
  "kernelspec": {
   "display_name": "Python 3.9.5 64-bit",
   "language": "python",
   "name": "python3"
  },
  "language_info": {
   "codemirror_mode": {
    "name": "ipython",
    "version": 3
   },
   "file_extension": ".py",
   "mimetype": "text/x-python",
   "name": "python",
   "nbconvert_exporter": "python",
   "pygments_lexer": "ipython3",
   "version": "3.9.5"
  },
  "orig_nbformat": 4
 },
 "nbformat": 4,
 "nbformat_minor": 2
}
