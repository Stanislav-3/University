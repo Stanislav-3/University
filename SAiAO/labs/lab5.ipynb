{
 "cells": [
  {
   "cell_type": "code",
   "execution_count": 7,
   "metadata": {},
   "outputs": [],
   "source": [
    "import numpy as np\n",
    "import copy"
   ]
  },
  {
   "cell_type": "markdown",
   "metadata": {},
   "source": [
    "# Алгоритм Форда-Фалкерсона"
   ]
  },
  {
   "cell_type": "code",
   "execution_count": 8,
   "metadata": {},
   "outputs": [],
   "source": [
    "adjacent_matrix = np.array([\n",
    "    [0, 7, 4, 0, 0, 0],\n",
    "    [0, 0, 4, 0, 2, 0],\n",
    "    [0, 0, 0, 4, 8, 0],\n",
    "    [0, 0, 0, 0, 0, 12],\n",
    "    [0, 0, 0, 4, 0, 5],\n",
    "    [0, 0, 0, 0, 0, 0],\n",
    "])"
   ]
  },
  {
   "cell_type": "code",
   "execution_count": 9,
   "metadata": {},
   "outputs": [],
   "source": [
    "def get_path(adjacent_matrix: np.array, source_vertex: int, target_vertex: int):\n",
    "    vertexes_from = [None] * (len(adjacent_matrix))\n",
    "\n",
    "    def dfs(vertex):\n",
    "        if vertex == target_vertex:\n",
    "            return\n",
    "            \n",
    "        for vertex_to in np.nonzero(adjacent_matrix[vertex, :])[0]:\n",
    "            if vertexes_from[vertex_to] is None:\n",
    "                vertexes_from[vertex_to] = vertex\n",
    "                dfs(vertex_to)\n",
    "    \n",
    "    vertexes_from[source_vertex] = source_vertex\n",
    "    dfs(source_vertex)\n",
    "\n",
    "    path = []\n",
    "    vertex = target_vertex\n",
    "\n",
    "    if vertexes_from[target_vertex] is None:\n",
    "        return\n",
    "\n",
    "    while vertex != source_vertex and vertex is not None:\n",
    "        path.append((vertexes_from[vertex], vertex))\n",
    "        vertex = vertexes_from[vertex]\n",
    "    \n",
    "    if len(path) == 0:\n",
    "        return None\n",
    "    \n",
    "    return path[::-1]"
   ]
  },
  {
   "cell_type": "code",
   "execution_count": 10,
   "metadata": {},
   "outputs": [],
   "source": [
    "def find_max_flow(adjacent_matrix: np.array, source_vertex: int, target_vertex: int):\n",
    "    adjacent_matrix = copy.deepcopy(adjacent_matrix)\n",
    "    max_flow = 0\n",
    "\n",
    "    while True:\n",
    "        path = get_path(adjacent_matrix, source_vertex, target_vertex)\n",
    "        if path is None:\n",
    "            return max_flow\n",
    "        \n",
    "        idxs = list(zip(*path))\n",
    "        capacity = np.min(adjacent_matrix[idxs[0], idxs[1]])\n",
    "\n",
    "        adjacent_matrix[idxs[0], idxs[1]] -= capacity\n",
    "        adjacent_matrix[idxs[1], idxs[0]] += capacity\n",
    "\n",
    "        max_flow += capacity"
   ]
  },
  {
   "cell_type": "code",
   "execution_count": 11,
   "metadata": {},
   "outputs": [
    {
     "data": {
      "text/plain": [
       "10"
      ]
     },
     "execution_count": 11,
     "metadata": {},
     "output_type": "execute_result"
    }
   ],
   "source": [
    "find_max_flow(adjacent_matrix, 0, 5)"
   ]
  }
 ],
 "metadata": {
  "kernelspec": {
   "display_name": "Python 3.10.7 64-bit",
   "language": "python",
   "name": "python3"
  },
  "language_info": {
   "codemirror_mode": {
    "name": "ipython",
    "version": 3
   },
   "file_extension": ".py",
   "mimetype": "text/x-python",
   "name": "python",
   "nbconvert_exporter": "python",
   "pygments_lexer": "ipython3",
   "version": "3.10.7"
  },
  "orig_nbformat": 4,
  "vscode": {
   "interpreter": {
    "hash": "aee8b7b246df8f9039afb4144a1f6fd8d2ca17a180786b69acc140d282b71a49"
   }
  }
 },
 "nbformat": 4,
 "nbformat_minor": 2
}
